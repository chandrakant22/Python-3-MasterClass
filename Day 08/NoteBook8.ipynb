{
 "cells": [
  {
   "cell_type": "markdown",
   "id": "afcc28c2",
   "metadata": {},
   "source": [
    "# Python Dictionary\n",
    "\n",
    "Dictionaries are used to store data values in key:value pairs.\n",
    "\n",
    "1> ordered* (Version 3.7, dictionaries are ordered. Version 3.6 and earlier, dictionaries are unordered.)\n",
    "2> mutable / changeable (Once a set is created, you cannot change its items, but you can remove items and add new items)\n",
    "3> { } or dict()\n",
    "4> Not Allow Duplicate Key\n",
    "5> unindexed"
   ]
  },
  {
   "cell_type": "code",
   "execution_count": 18,
   "id": "ab5c8d6c",
   "metadata": {},
   "outputs": [
    {
     "name": "stdout",
     "output_type": "stream",
     "text": [
      "False\n"
     ]
    }
   ],
   "source": [
    "x={\"name\":\"ram\",\"address\":\"nagpur\",\"mob\":8087737679}\n",
    "\n",
    "print(\"8087737673\" in x)"
   ]
  },
  {
   "cell_type": "markdown",
   "id": "e76a2ea2",
   "metadata": {},
   "source": [
    "# Access Items\n",
    "\n",
    "Indexing dict[\"key\"]\n",
    "dict.get(\"key\") return value\n",
    "\n",
    "list of the keys:\n",
    "dict.keys()\n",
    "\n",
    "list of the values:\n",
    "dict.values()\n",
    "\n",
    "list of the key:value pairs\n",
    "dict.items()\n",
    "\n",
    "Check\n",
    "Check if Item Exists --> in"
   ]
  },
  {
   "cell_type": "code",
   "execution_count": null,
   "id": "2ac83562",
   "metadata": {},
   "outputs": [],
   "source": []
  },
  {
   "cell_type": "markdown",
   "id": "9e23b40e",
   "metadata": {},
   "source": [
    "# Change Dictionary Items\n",
    "\n",
    "dict[\"key\"]=\"value\"\n",
    "dict.update({\"key\": value})"
   ]
  },
  {
   "cell_type": "code",
   "execution_count": null,
   "id": "37bfaac1",
   "metadata": {},
   "outputs": [],
   "source": []
  },
  {
   "cell_type": "markdown",
   "id": "d9f58acc",
   "metadata": {},
   "source": [
    "# Add new Item in Dictionary\n",
    "\n",
    "dict[\"new key\"] = \"value\"\n",
    "dict.update({\"new key\": \"value\"})"
   ]
  },
  {
   "cell_type": "code",
   "execution_count": null,
   "id": "64a78869",
   "metadata": {},
   "outputs": [],
   "source": []
  },
  {
   "cell_type": "markdown",
   "id": "c7b5b202",
   "metadata": {},
   "source": [
    "# Dictionary Method"
   ]
  },
  {
   "cell_type": "code",
   "execution_count": null,
   "id": "dccacc0d",
   "metadata": {},
   "outputs": [],
   "source": [
    "dict.clear() # Removes all the elements from the dictionary"
   ]
  },
  {
   "cell_type": "code",
   "execution_count": null,
   "id": "3e52a540",
   "metadata": {},
   "outputs": [],
   "source": []
  },
  {
   "cell_type": "code",
   "execution_count": null,
   "id": "d88f24ff",
   "metadata": {},
   "outputs": [],
   "source": [
    "dict.copy() # Returns a copy of the dictionary"
   ]
  },
  {
   "cell_type": "code",
   "execution_count": null,
   "id": "d23ecc90",
   "metadata": {},
   "outputs": [],
   "source": []
  },
  {
   "cell_type": "code",
   "execution_count": null,
   "id": "87faff45",
   "metadata": {},
   "outputs": [],
   "source": [
    "dict.fromkeys(keys)  # Returns a dictionary with the specified keys and value is none"
   ]
  },
  {
   "cell_type": "code",
   "execution_count": 19,
   "id": "dba3c0ef",
   "metadata": {},
   "outputs": [],
   "source": [
    "x={1,2,3,4}\n",
    "z=dict.fromkeys(x)"
   ]
  },
  {
   "cell_type": "code",
   "execution_count": 26,
   "id": "7ca019d0",
   "metadata": {},
   "outputs": [],
   "source": []
  },
  {
   "cell_type": "code",
   "execution_count": null,
   "id": "69b53306",
   "metadata": {},
   "outputs": [],
   "source": [
    "dict.pop(keyname, defaultvalue) # Removes the element with the specified key"
   ]
  },
  {
   "cell_type": "code",
   "execution_count": null,
   "id": "b141d158",
   "metadata": {},
   "outputs": [],
   "source": []
  },
  {
   "cell_type": "code",
   "execution_count": null,
   "id": "15dc4933",
   "metadata": {},
   "outputs": [],
   "source": [
    "dict.popitem() # Removes the last inserted key-value pair"
   ]
  },
  {
   "cell_type": "code",
   "execution_count": null,
   "id": "c032f67e",
   "metadata": {},
   "outputs": [],
   "source": []
  },
  {
   "cell_type": "code",
   "execution_count": null,
   "id": "9afa9494",
   "metadata": {},
   "outputs": [],
   "source": [
    "dict.setdefault(keyname, value) \n",
    "#Returns the value of the specified key. If the key does not exist: insert the key, with the specified value"
   ]
  },
  {
   "cell_type": "code",
   "execution_count": null,
   "id": "89797783",
   "metadata": {},
   "outputs": [],
   "source": []
  },
  {
   "cell_type": "code",
   "execution_count": null,
   "id": "3b20d139",
   "metadata": {},
   "outputs": [],
   "source": []
  },
  {
   "cell_type": "code",
   "execution_count": null,
   "id": "07b8c905",
   "metadata": {},
   "outputs": [],
   "source": []
  },
  {
   "cell_type": "code",
   "execution_count": null,
   "id": "502938ac",
   "metadata": {},
   "outputs": [],
   "source": []
  },
  {
   "cell_type": "markdown",
   "id": "61e0051b",
   "metadata": {},
   "source": [
    "# Boolean Values\n",
    "\n",
    "Booleans represent one of two values: True or False."
   ]
  },
  {
   "cell_type": "code",
   "execution_count": null,
   "id": "44ecb656",
   "metadata": {},
   "outputs": [],
   "source": [
    "print(10 > 9)\n",
    "print(10 == 9)\n",
    "print(10 < 9)"
   ]
  },
  {
   "cell_type": "code",
   "execution_count": null,
   "id": "196ccd1f",
   "metadata": {},
   "outputs": [],
   "source": [
    "print(bool(\"Hello\"))\n",
    "print(bool(15))"
   ]
  },
  {
   "cell_type": "code",
   "execution_count": null,
   "id": "dc492466",
   "metadata": {},
   "outputs": [],
   "source": [
    "bool(False)\n",
    "bool(None)\n",
    "bool(0)\n",
    "bool(\"\")\n",
    "bool(())\n",
    "bool([])\n",
    "bool({})"
   ]
  },
  {
   "cell_type": "markdown",
   "id": "5e04f2cd",
   "metadata": {},
   "source": [
    "# -------------------------------------Page End-------------------------------------\n",
    "Asterisc.in \n",
    "We will help you bring out the best in you...!! \n",
    "Industrial Training / Internship / College Projects\n",
    "Contact 7744822228 / 7743822228 \n",
    "Branches : Bhande Plot | Tiranga Chowk | Friends Colony"
   ]
  }
 ],
 "metadata": {
  "kernelspec": {
   "display_name": "Python 3 (ipykernel)",
   "language": "python",
   "name": "python3"
  },
  "language_info": {
   "codemirror_mode": {
    "name": "ipython",
    "version": 3
   },
   "file_extension": ".py",
   "mimetype": "text/x-python",
   "name": "python",
   "nbconvert_exporter": "python",
   "pygments_lexer": "ipython3",
   "version": "3.9.7"
  }
 },
 "nbformat": 4,
 "nbformat_minor": 5
}
