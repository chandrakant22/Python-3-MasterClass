{
 "cells": [
  {
   "cell_type": "markdown",
   "id": "16094543",
   "metadata": {},
   "source": [
    "# Python Operators\n",
    "\n",
    "An operator in a programming language is a symbol that tells the compiler or interpreter to perform specific mathematical, relational or logical operation\n",
    "\n",
    "#following groups:\n",
    "\n",
    "1. Arithmetic operators\n",
    "2. Assignment operators\n",
    "3. Comparison operators\n",
    "4. Logical operators\n",
    "5. Identity operators\n",
    "6. Membership operators\n",
    "7. Bitwise operators"
   ]
  },
  {
   "cell_type": "markdown",
   "id": "93235cca",
   "metadata": {},
   "source": [
    "# 1. Arithmetic operators\n",
    "\n",
    "Arithmetic operators are used with numeric values to perform common mathematical operations:"
   ]
  },
  {
   "cell_type": "markdown",
   "id": "dd946842",
   "metadata": {},
   "source": [
    "Addition + \n",
    "Subtraction - \n",
    "Multiplication *\n",
    "Division /\n",
    "Modulus %\n",
    "Exponentiation **\n",
    "\n",
    "Floor division //  [ the floor division // rounds the result down to the nearest whole number ]"
   ]
  },
  {
   "cell_type": "code",
   "execution_count": null,
   "id": "bbc5696a",
   "metadata": {},
   "outputs": [],
   "source": [
    "x=15\n",
    "y=2"
   ]
  },
  {
   "cell_type": "code",
   "execution_count": null,
   "id": "dc947c24",
   "metadata": {},
   "outputs": [],
   "source": []
  },
  {
   "cell_type": "markdown",
   "id": "f6474c24",
   "metadata": {},
   "source": [
    "# Python Assignment Operators\n",
    "\n",
    "=    +=    -=   *=    /=     %=   //=   **=  "
   ]
  },
  {
   "cell_type": "code",
   "execution_count": null,
   "id": "7456f8c4",
   "metadata": {},
   "outputs": [],
   "source": []
  },
  {
   "cell_type": "markdown",
   "id": "1bc45c9d",
   "metadata": {},
   "source": [
    "# Python Comparison Operators\n",
    "\n",
    "==   !=  >   <   >=  <="
   ]
  },
  {
   "cell_type": "code",
   "execution_count": null,
   "id": "85dc56a0",
   "metadata": {},
   "outputs": [],
   "source": []
  },
  {
   "cell_type": "markdown",
   "id": "74bb7cdc",
   "metadata": {},
   "source": [
    "# Python Logical Operators\n",
    "\n",
    "and |  or | not"
   ]
  },
  {
   "cell_type": "code",
   "execution_count": null,
   "id": "8fec4cf6",
   "metadata": {},
   "outputs": [],
   "source": []
  },
  {
   "cell_type": "markdown",
   "id": "1fc54253",
   "metadata": {},
   "source": [
    "# Python Identity Operators\n",
    "\n",
    "used to compare the objects\n",
    "\n",
    "is    |   is not  "
   ]
  },
  {
   "cell_type": "code",
   "execution_count": 1,
   "id": "42c9e38d",
   "metadata": {},
   "outputs": [],
   "source": [
    "x = []\n",
    "y = []\n",
    "z = x"
   ]
  },
  {
   "cell_type": "code",
   "execution_count": 3,
   "id": "dfd936f1",
   "metadata": {},
   "outputs": [
    {
     "data": {
      "text/plain": [
       "True"
      ]
     },
     "execution_count": 3,
     "metadata": {},
     "output_type": "execute_result"
    }
   ],
   "source": []
  },
  {
   "cell_type": "markdown",
   "id": "50a1611b",
   "metadata": {},
   "source": [
    "# Python Membership Operators\n",
    "\n",
    "used to test if a sequence is presented in an object:\n",
    "\n",
    "in  |  not in"
   ]
  },
  {
   "cell_type": "code",
   "execution_count": null,
   "id": "c8477be2",
   "metadata": {},
   "outputs": [],
   "source": []
  },
  {
   "cell_type": "markdown",
   "id": "65e540e7",
   "metadata": {},
   "source": [
    "# Python Bitwise Operators\n",
    "\n",
    "Bitwise operators are used to compare (binary) numbers:\n",
    "\n",
    "AND           &  \n",
    "OR            | \n",
    "XOR           ^  \n",
    "NOT           ~ \n",
    "Left shift    <<\n",
    "Right shift   >>\n"
   ]
  },
  {
   "cell_type": "code",
   "execution_count": null,
   "id": "1a2a459e",
   "metadata": {},
   "outputs": [],
   "source": []
  },
  {
   "cell_type": "markdown",
   "id": "9a9ad437",
   "metadata": {},
   "source": [
    "# -------------------------------------Page End-------------------------------------\n",
    "Asterisc.in \n",
    "We will help you bring out the best in you...!! \n",
    "Industrial Training / Internship / College Projects\n",
    "Contact 7744822228 / 7743822228 \n",
    "Branches : Bhande Plot | Tiranga Chowk | Friends Colony"
   ]
  }
 ],
 "metadata": {
  "kernelspec": {
   "display_name": "Python 3 (ipykernel)",
   "language": "python",
   "name": "python3"
  },
  "language_info": {
   "codemirror_mode": {
    "name": "ipython",
    "version": 3
   },
   "file_extension": ".py",
   "mimetype": "text/x-python",
   "name": "python",
   "nbconvert_exporter": "python",
   "pygments_lexer": "ipython3",
   "version": "3.9.7"
  }
 },
 "nbformat": 4,
 "nbformat_minor": 5
}
