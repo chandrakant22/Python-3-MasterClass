{
 "cells": [
  {
   "cell_type": "markdown",
   "id": "afcc28c2",
   "metadata": {},
   "source": [
    "# Python Dictionary\n",
    "\n",
    "Dictionaries are used to store data values in key:value pairs.\n",
    "\n",
    "1> ordered* (Version 3.7, dictionaries are ordered. Version 3.6 and earlier, dictionaries are unordered.)\n",
    "2> mutable / changeable (Once a set is created, you cannot change its items, but you can remove items and add new items)\n",
    "3> { } or dict()\n",
    "4> Not Allow Duplicate Key\n",
    "5> unindexed"
   ]
  },
  {
   "cell_type": "code",
   "execution_count": 1,
   "id": "ab5c8d6c",
   "metadata": {},
   "outputs": [
    {
     "data": {
      "text/plain": [
       "dict"
      ]
     },
     "execution_count": 1,
     "metadata": {},
     "output_type": "execute_result"
    }
   ],
   "source": [
    "x={\"name\":\"ram\",\"roll\":101,\"result\":89.7 ,\"address\":\"nagpur\"}\n",
    "type(x)"
   ]
  },
  {
   "cell_type": "markdown",
   "id": "e76a2ea2",
   "metadata": {},
   "source": [
    "# Access Items\n",
    "\n",
    "Indexing dict[\"key\"]\n",
    "dict.get(\"key\") return value\n",
    "\n",
    "list of the keys:\n",
    "dict.keys()\n",
    "\n",
    "list of the values:\n",
    "dict.values()\n",
    "\n",
    "list of the key:value pairs\n",
    "dict.items()\n",
    "\n",
    "Check\n",
    "Check if Item Exists --> in"
   ]
  },
  {
   "cell_type": "code",
   "execution_count": 4,
   "id": "2ac83562",
   "metadata": {},
   "outputs": [
    {
     "name": "stdout",
     "output_type": "stream",
     "text": [
      "sham\n",
      "nagpur\n"
     ]
    }
   ],
   "source": [
    "x={\"name\":\"ram\",\"roll\":101,\"result\":89.7 ,\"address\":\"nagpur\",1:\"sham\"}\n",
    "\n",
    "print(x[1])\n",
    "print(x.get(\"address\"))"
   ]
  },
  {
   "cell_type": "code",
   "execution_count": 5,
   "id": "39c239b9",
   "metadata": {},
   "outputs": [
    {
     "data": {
      "text/plain": [
       "dict_keys(['name', 'roll', 'result', 'address', 1])"
      ]
     },
     "execution_count": 5,
     "metadata": {},
     "output_type": "execute_result"
    }
   ],
   "source": [
    "x.keys()\n"
   ]
  },
  {
   "cell_type": "code",
   "execution_count": 6,
   "id": "e083c024",
   "metadata": {},
   "outputs": [
    {
     "data": {
      "text/plain": [
       "dict_values(['ram', 101, 89.7, 'nagpur', 'sham'])"
      ]
     },
     "execution_count": 6,
     "metadata": {},
     "output_type": "execute_result"
    }
   ],
   "source": [
    "x.values()"
   ]
  },
  {
   "cell_type": "code",
   "execution_count": 7,
   "id": "b65a8bf3",
   "metadata": {},
   "outputs": [
    {
     "data": {
      "text/plain": [
       "{'name': 'ram', 'roll': 101, 'result': 89.7, 'address': 'nagpur', 1: 'sham'}"
      ]
     },
     "execution_count": 7,
     "metadata": {},
     "output_type": "execute_result"
    }
   ],
   "source": [
    "x"
   ]
  },
  {
   "cell_type": "code",
   "execution_count": 8,
   "id": "74f35afb",
   "metadata": {},
   "outputs": [
    {
     "data": {
      "text/plain": [
       "dict_items([('name', 'ram'), ('roll', 101), ('result', 89.7), ('address', 'nagpur'), (1, 'sham')])"
      ]
     },
     "execution_count": 8,
     "metadata": {},
     "output_type": "execute_result"
    }
   ],
   "source": [
    "x.items()"
   ]
  },
  {
   "cell_type": "markdown",
   "id": "9e23b40e",
   "metadata": {},
   "source": [
    "# Change Dictionary Items\n",
    "\n",
    "dict[\"key\"]=\"value\"\n",
    "dict.update({\"key\": value})"
   ]
  },
  {
   "cell_type": "code",
   "execution_count": 16,
   "id": "37bfaac1",
   "metadata": {},
   "outputs": [],
   "source": [
    "x={\"name\":\"ram\",\"roll\":101,\"result\":89.7 ,\"address\":\"nagpur\",1:\"sham\"}\n",
    "\n",
    "#x[\"name\"]=\"ramkumar\"\n",
    "\n",
    "x.update({\"college\":\"asterisc\"})\n"
   ]
  },
  {
   "cell_type": "code",
   "execution_count": 17,
   "id": "174dfc30",
   "metadata": {},
   "outputs": [
    {
     "data": {
      "text/plain": [
       "{'name': 'ram',\n",
       " 'roll': 101,\n",
       " 'result': 89.7,\n",
       " 'address': 'nagpur',\n",
       " 1: 'sham',\n",
       " 'college': 'asterisc'}"
      ]
     },
     "execution_count": 17,
     "metadata": {},
     "output_type": "execute_result"
    }
   ],
   "source": [
    "x"
   ]
  },
  {
   "cell_type": "markdown",
   "id": "d9f58acc",
   "metadata": {},
   "source": [
    "# Add new Item in Dictionary\n",
    "\n",
    "dict[\"new key\"] = \"value\"\n",
    "dict.update({\"new key\": \"value\"})"
   ]
  },
  {
   "cell_type": "code",
   "execution_count": null,
   "id": "64a78869",
   "metadata": {},
   "outputs": [],
   "source": []
  },
  {
   "cell_type": "markdown",
   "id": "c7b5b202",
   "metadata": {},
   "source": [
    "# Dictionary Method"
   ]
  },
  {
   "cell_type": "code",
   "execution_count": null,
   "id": "dccacc0d",
   "metadata": {},
   "outputs": [],
   "source": [
    "dict.clear() # Removes all the elements from the dictionary"
   ]
  },
  {
   "cell_type": "code",
   "execution_count": null,
   "id": "3e52a540",
   "metadata": {},
   "outputs": [],
   "source": []
  },
  {
   "cell_type": "code",
   "execution_count": null,
   "id": "d88f24ff",
   "metadata": {},
   "outputs": [],
   "source": [
    "dict.copy() # Returns a copy of the dictionary"
   ]
  },
  {
   "cell_type": "code",
   "execution_count": null,
   "id": "d23ecc90",
   "metadata": {},
   "outputs": [],
   "source": []
  },
  {
   "cell_type": "code",
   "execution_count": null,
   "id": "87faff45",
   "metadata": {},
   "outputs": [],
   "source": [
    "dict.fromkeys(keys)  # Returns a dictionary with the specified keys and value is none"
   ]
  },
  {
   "cell_type": "code",
   "execution_count": 25,
   "id": "dba3c0ef",
   "metadata": {},
   "outputs": [],
   "source": [
    "x={1,2,3,4}\n",
    "y=\"not set\"\n",
    "z=dict.fromkeys(x,y)"
   ]
  },
  {
   "cell_type": "code",
   "execution_count": 26,
   "id": "7ca019d0",
   "metadata": {},
   "outputs": [
    {
     "data": {
      "text/plain": [
       "{1: 'not set', 2: 'not set', 3: 'not set', 4: 'not set'}"
      ]
     },
     "execution_count": 26,
     "metadata": {},
     "output_type": "execute_result"
    }
   ],
   "source": [
    "z"
   ]
  },
  {
   "cell_type": "code",
   "execution_count": null,
   "id": "69b53306",
   "metadata": {},
   "outputs": [],
   "source": [
    "dict.pop(keyname, defaultvalue) # Removes the element with the specified key"
   ]
  },
  {
   "cell_type": "code",
   "execution_count": 29,
   "id": "b141d158",
   "metadata": {},
   "outputs": [
    {
     "data": {
      "text/plain": [
       "'value is not ava..'"
      ]
     },
     "execution_count": 29,
     "metadata": {},
     "output_type": "execute_result"
    }
   ],
   "source": [
    "x={\"name\":\"ram\",\"roll\":101,\"result\":89.7 ,\"address\":\"nagpur\",1:\"sham\"}\n",
    "x.pop(\"std\",\"value is not ava..\")"
   ]
  },
  {
   "cell_type": "code",
   "execution_count": 28,
   "id": "73a7da48",
   "metadata": {},
   "outputs": [
    {
     "data": {
      "text/plain": [
       "{'roll': 101, 'result': 89.7, 'address': 'nagpur', 1: 'sham'}"
      ]
     },
     "execution_count": 28,
     "metadata": {},
     "output_type": "execute_result"
    }
   ],
   "source": [
    "x"
   ]
  },
  {
   "cell_type": "code",
   "execution_count": null,
   "id": "15dc4933",
   "metadata": {},
   "outputs": [],
   "source": [
    "dict.popitem() # Removes the last inserted key-value pair"
   ]
  },
  {
   "cell_type": "code",
   "execution_count": 30,
   "id": "c032f67e",
   "metadata": {},
   "outputs": [
    {
     "data": {
      "text/plain": [
       "(1, 'sham')"
      ]
     },
     "execution_count": 30,
     "metadata": {},
     "output_type": "execute_result"
    }
   ],
   "source": [
    "x.popitem()"
   ]
  },
  {
   "cell_type": "code",
   "execution_count": 31,
   "id": "a360b99f",
   "metadata": {},
   "outputs": [
    {
     "data": {
      "text/plain": [
       "{'name': 'ram', 'roll': 101, 'result': 89.7, 'address': 'nagpur'}"
      ]
     },
     "execution_count": 31,
     "metadata": {},
     "output_type": "execute_result"
    }
   ],
   "source": [
    "x"
   ]
  },
  {
   "cell_type": "code",
   "execution_count": null,
   "id": "9afa9494",
   "metadata": {},
   "outputs": [],
   "source": [
    "dict.setdefault(keyname, value) \n",
    "#Returns the value of the specified key. If the key does not exist: insert the key, with the specified value"
   ]
  },
  {
   "cell_type": "code",
   "execution_count": 35,
   "id": "89797783",
   "metadata": {},
   "outputs": [
    {
     "data": {
      "text/plain": [
       "'not created yet'"
      ]
     },
     "execution_count": 35,
     "metadata": {},
     "output_type": "execute_result"
    }
   ],
   "source": [
    "x.setdefault(\"std\",\"not created yet\")"
   ]
  },
  {
   "cell_type": "code",
   "execution_count": 36,
   "id": "3b20d139",
   "metadata": {},
   "outputs": [
    {
     "data": {
      "text/plain": [
       "{'name': 'ram',\n",
       " 'roll': 101,\n",
       " 'result': 89.7,\n",
       " 'address': 'nagpur',\n",
       " 'std': 'not created yet'}"
      ]
     },
     "execution_count": 36,
     "metadata": {},
     "output_type": "execute_result"
    }
   ],
   "source": [
    "x"
   ]
  },
  {
   "cell_type": "code",
   "execution_count": null,
   "id": "07b8c905",
   "metadata": {},
   "outputs": [],
   "source": []
  },
  {
   "cell_type": "code",
   "execution_count": null,
   "id": "502938ac",
   "metadata": {},
   "outputs": [],
   "source": []
  },
  {
   "cell_type": "markdown",
   "id": "61e0051b",
   "metadata": {},
   "source": [
    "# Boolean Values\n",
    "\n",
    "Booleans represent one of two values: True or False."
   ]
  },
  {
   "cell_type": "code",
   "execution_count": 37,
   "id": "44ecb656",
   "metadata": {},
   "outputs": [
    {
     "name": "stdout",
     "output_type": "stream",
     "text": [
      "True\n",
      "False\n",
      "False\n"
     ]
    }
   ],
   "source": [
    "print(10 > 9)\n",
    "print(10 == 9)\n",
    "print(10 < 9)"
   ]
  },
  {
   "cell_type": "code",
   "execution_count": null,
   "id": "530d9b0e",
   "metadata": {},
   "outputs": [],
   "source": []
  },
  {
   "cell_type": "code",
   "execution_count": 38,
   "id": "196ccd1f",
   "metadata": {},
   "outputs": [
    {
     "name": "stdout",
     "output_type": "stream",
     "text": [
      "True\n",
      "True\n"
     ]
    }
   ],
   "source": [
    "print(bool(\"Hello\"))\n",
    "print(bool(-15))"
   ]
  },
  {
   "cell_type": "code",
   "execution_count": null,
   "id": "4ce39a53",
   "metadata": {},
   "outputs": [],
   "source": []
  },
  {
   "cell_type": "code",
   "execution_count": 40,
   "id": "dc492466",
   "metadata": {},
   "outputs": [
    {
     "name": "stdout",
     "output_type": "stream",
     "text": [
      "False\n",
      "False\n",
      "False\n",
      "False\n",
      "False\n",
      "False\n",
      "False\n"
     ]
    }
   ],
   "source": [
    "print(bool(False))\n",
    "print(bool(None))\n",
    "print(bool(0))\n",
    "print(bool(\"\"))\n",
    "print(bool(()))\n",
    "print(bool([]))\n",
    "print(bool({}))"
   ]
  },
  {
   "cell_type": "markdown",
   "id": "5e04f2cd",
   "metadata": {},
   "source": [
    "# -------------------------------------Page End-------------------------------------\n",
    "Asterisc.in \n",
    "We will help you bring out the best in you...!! \n",
    "Industrial Training / Internship / College Projects\n",
    "Contact 7744822228 / 7743822228 \n",
    "Branches : Bhande Plot | Tiranga Chowk | Friends Colony"
   ]
  }
 ],
 "metadata": {
  "kernelspec": {
   "display_name": "Python 3 (ipykernel)",
   "language": "python",
   "name": "python3"
  },
  "language_info": {
   "codemirror_mode": {
    "name": "ipython",
    "version": 3
   },
   "file_extension": ".py",
   "mimetype": "text/x-python",
   "name": "python",
   "nbconvert_exporter": "python",
   "pygments_lexer": "ipython3",
   "version": "3.10.3"
  }
 },
 "nbformat": 4,
 "nbformat_minor": 5
}
