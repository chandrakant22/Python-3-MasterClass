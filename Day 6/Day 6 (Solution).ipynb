{
 "cells": [
  {
   "cell_type": "markdown",
   "id": "48e2f4f2",
   "metadata": {},
   "source": [
    "# Python Tuples\n",
    "\n",
    "Tuples are used to store multiple items in a single variable.\n",
    "\n",
    "1> Ordered\n",
    "2> immutable / Unchangeable\n",
    "3> () or tuple()\n",
    "4> Allow Duplicate"
   ]
  },
  {
   "cell_type": "code",
   "execution_count": 1,
   "id": "578206a9",
   "metadata": {},
   "outputs": [],
   "source": [
    "x=(\"ram\",\"sham\",\"pooja\",\"geeta\")"
   ]
  },
  {
   "cell_type": "code",
   "execution_count": 3,
   "id": "9bfd690b",
   "metadata": {},
   "outputs": [
    {
     "data": {
      "text/plain": [
       "tuple"
      ]
     },
     "execution_count": 3,
     "metadata": {},
     "output_type": "execute_result"
    }
   ],
   "source": [
    "type(x)"
   ]
  },
  {
   "cell_type": "markdown",
   "id": "3ea6bf4a",
   "metadata": {},
   "source": [
    "# Access Items\n",
    "\n",
    "Indexing [1]\n",
    "Negative Indexing [-1]\n",
    "\n",
    "# Slicing\n",
    "\n",
    "Range of Indexes  [2:5]\n",
    "Range of Negative Indexes[-4:-1]\n",
    "\n",
    "# Check\n",
    "\n",
    "Check if Item Exists --> in"
   ]
  },
  {
   "cell_type": "code",
   "execution_count": 5,
   "id": "75265e25",
   "metadata": {},
   "outputs": [],
   "source": [
    "x=(\"ram\",\"sham\",\"pooja\",\"geeta\")"
   ]
  },
  {
   "cell_type": "code",
   "execution_count": 6,
   "id": "df006ac2",
   "metadata": {},
   "outputs": [
    {
     "data": {
      "text/plain": [
       "'geeta'"
      ]
     },
     "execution_count": 6,
     "metadata": {},
     "output_type": "execute_result"
    }
   ],
   "source": [
    "x[-1]"
   ]
  },
  {
   "cell_type": "code",
   "execution_count": 7,
   "id": "5ad4783a",
   "metadata": {},
   "outputs": [
    {
     "name": "stdout",
     "output_type": "stream",
     "text": [
      "True\n"
     ]
    }
   ],
   "source": [
    "print(\"ram\" in x)"
   ]
  },
  {
   "cell_type": "markdown",
   "id": "4e558a14",
   "metadata": {},
   "source": [
    "# Tuples Methods"
   ]
  },
  {
   "cell_type": "code",
   "execution_count": null,
   "id": "9f78ab61",
   "metadata": {},
   "outputs": [],
   "source": [
    "tuple(iterable)   # many items a list has"
   ]
  },
  {
   "cell_type": "code",
   "execution_count": 8,
   "id": "67079839",
   "metadata": {},
   "outputs": [],
   "source": [
    "a=[2,4,45,6,67,7,8,8]\n",
    "\n",
    "b=tuple(a)"
   ]
  },
  {
   "cell_type": "code",
   "execution_count": 11,
   "id": "64310f95",
   "metadata": {},
   "outputs": [
    {
     "data": {
      "text/plain": [
       "tuple"
      ]
     },
     "execution_count": 11,
     "metadata": {},
     "output_type": "execute_result"
    }
   ],
   "source": [
    "type(b)"
   ]
  },
  {
   "cell_type": "code",
   "execution_count": null,
   "id": "7a78ea44",
   "metadata": {},
   "outputs": [],
   "source": [
    "count(value)    # Returns the count of given element"
   ]
  },
  {
   "cell_type": "code",
   "execution_count": 13,
   "id": "682fe697",
   "metadata": {},
   "outputs": [],
   "source": [
    "z=b.count(8)"
   ]
  },
  {
   "cell_type": "code",
   "execution_count": 14,
   "id": "90dda08e",
   "metadata": {},
   "outputs": [
    {
     "data": {
      "text/plain": [
       "2"
      ]
     },
     "execution_count": 14,
     "metadata": {},
     "output_type": "execute_result"
    }
   ],
   "source": [
    "z"
   ]
  },
  {
   "cell_type": "code",
   "execution_count": null,
   "id": "b5b53ed8",
   "metadata": {},
   "outputs": [],
   "source": [
    "index(element)    # Returns the index of the first matched item   "
   ]
  },
  {
   "cell_type": "code",
   "execution_count": null,
   "id": "ceced2ee",
   "metadata": {},
   "outputs": [],
   "source": []
  },
  {
   "cell_type": "code",
   "execution_count": null,
   "id": "bb373e1e",
   "metadata": {},
   "outputs": [],
   "source": [
    "min(tuple)      # return the minimum element in tuple"
   ]
  },
  {
   "cell_type": "code",
   "execution_count": 16,
   "id": "e9139334",
   "metadata": {},
   "outputs": [],
   "source": [
    "a=(2,4,45,6,67,7,8,8)\n",
    "z=min(a)"
   ]
  },
  {
   "cell_type": "code",
   "execution_count": 17,
   "id": "6eea52fc",
   "metadata": {},
   "outputs": [
    {
     "data": {
      "text/plain": [
       "2"
      ]
     },
     "execution_count": 17,
     "metadata": {},
     "output_type": "execute_result"
    }
   ],
   "source": [
    "z"
   ]
  },
  {
   "cell_type": "code",
   "execution_count": null,
   "id": "5f3653ad",
   "metadata": {},
   "outputs": [],
   "source": [
    "max(tuple)      # return the maximum element in tuple"
   ]
  },
  {
   "cell_type": "code",
   "execution_count": null,
   "id": "bf227d3b",
   "metadata": {},
   "outputs": [],
   "source": []
  },
  {
   "cell_type": "code",
   "execution_count": null,
   "id": "6555ae7a",
   "metadata": {},
   "outputs": [],
   "source": [
    "del(tuple)      # Removes all the elements from the tuple"
   ]
  },
  {
   "cell_type": "code",
   "execution_count": 18,
   "id": "d08870fb",
   "metadata": {},
   "outputs": [],
   "source": [
    "del(a)"
   ]
  },
  {
   "cell_type": "code",
   "execution_count": 19,
   "id": "2f0cec0a",
   "metadata": {},
   "outputs": [
    {
     "ename": "NameError",
     "evalue": "name 'a' is not defined",
     "output_type": "error",
     "traceback": [
      "\u001b[1;31m---------------------------------------------------------------------------\u001b[0m",
      "\u001b[1;31mNameError\u001b[0m                                 Traceback (most recent call last)",
      "Input \u001b[1;32mIn [19]\u001b[0m, in \u001b[0;36m<cell line: 1>\u001b[1;34m()\u001b[0m\n\u001b[1;32m----> 1\u001b[0m \u001b[43ma\u001b[49m\n",
      "\u001b[1;31mNameError\u001b[0m: name 'a' is not defined"
     ]
    }
   ],
   "source": [
    "a"
   ]
  },
  {
   "cell_type": "code",
   "execution_count": null,
   "id": "01fc1e95",
   "metadata": {},
   "outputs": [],
   "source": [
    "sum(tuple)             # Sum of numbers in the Tuple"
   ]
  },
  {
   "cell_type": "code",
   "execution_count": 21,
   "id": "6dbfe0bf",
   "metadata": {},
   "outputs": [],
   "source": [
    "a=(2,4,45,6,67,7,8,8)"
   ]
  },
  {
   "cell_type": "code",
   "execution_count": 22,
   "id": "1e560ebc",
   "metadata": {},
   "outputs": [
    {
     "data": {
      "text/plain": [
       "147"
      ]
     },
     "execution_count": 22,
     "metadata": {},
     "output_type": "execute_result"
    }
   ],
   "source": [
    "sum(a)"
   ]
  },
  {
   "cell_type": "markdown",
   "id": "9a9ad437",
   "metadata": {},
   "source": [
    "# -------------------------------------Page End-------------------------------------\n",
    "Asterisc.in \n",
    "We will help you bring out the best in you...!! \n",
    "Industrial Training / Internship / College Projects\n",
    "Contact 7744822228 / 7743822228 \n",
    "Branches : Bhande Plot | Tiranga Chowk | Friends Colony"
   ]
  }
 ],
 "metadata": {
  "kernelspec": {
   "display_name": "Python 3 (ipykernel)",
   "language": "python",
   "name": "python3"
  },
  "language_info": {
   "codemirror_mode": {
    "name": "ipython",
    "version": 3
   },
   "file_extension": ".py",
   "mimetype": "text/x-python",
   "name": "python",
   "nbconvert_exporter": "python",
   "pygments_lexer": "ipython3",
   "version": "3.10.3"
  }
 },
 "nbformat": 4,
 "nbformat_minor": 5
}
