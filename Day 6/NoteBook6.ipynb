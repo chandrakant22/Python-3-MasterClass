{
 "cells": [
  {
   "cell_type": "markdown",
   "id": "48e2f4f2",
   "metadata": {},
   "source": [
    "# Python Tuples\n",
    "\n",
    "Tuples are used to store multiple items in a single variable.\n",
    "\n",
    "1> Ordered\n",
    "2> immutable / Unchangeable\n",
    "3> () or tuple()\n",
    "4> Allow Duplicate"
   ]
  },
  {
   "cell_type": "code",
   "execution_count": null,
   "id": "578206a9",
   "metadata": {},
   "outputs": [],
   "source": []
  },
  {
   "cell_type": "markdown",
   "id": "3ea6bf4a",
   "metadata": {},
   "source": [
    "# Access Items\n",
    "\n",
    "Indexing [1]\n",
    "Negative Indexing [-1]\n",
    "\n",
    "# Slicing\n",
    "\n",
    "Range of Indexes  [2:5]\n",
    "Range of Negative Indexes[-4:-1]\n",
    "\n",
    "# Check\n",
    "\n",
    "Check if Item Exists --> in"
   ]
  },
  {
   "cell_type": "code",
   "execution_count": null,
   "id": "df006ac2",
   "metadata": {},
   "outputs": [],
   "source": []
  },
  {
   "cell_type": "markdown",
   "id": "4e558a14",
   "metadata": {},
   "source": [
    "# Tuples Methods"
   ]
  },
  {
   "cell_type": "code",
   "execution_count": null,
   "id": "9f78ab61",
   "metadata": {},
   "outputs": [],
   "source": [
    "tuple(iterable)   # many items a list has"
   ]
  },
  {
   "cell_type": "code",
   "execution_count": null,
   "id": "67079839",
   "metadata": {},
   "outputs": [],
   "source": []
  },
  {
   "cell_type": "code",
   "execution_count": null,
   "id": "7a78ea44",
   "metadata": {},
   "outputs": [],
   "source": [
    "count(value)    # Returns the count of given element"
   ]
  },
  {
   "cell_type": "code",
   "execution_count": null,
   "id": "682fe697",
   "metadata": {},
   "outputs": [],
   "source": []
  },
  {
   "cell_type": "code",
   "execution_count": null,
   "id": "b5b53ed8",
   "metadata": {},
   "outputs": [],
   "source": [
    "index(element)    # Returns the index of the first matched item   "
   ]
  },
  {
   "cell_type": "code",
   "execution_count": null,
   "id": "ceced2ee",
   "metadata": {},
   "outputs": [],
   "source": []
  },
  {
   "cell_type": "code",
   "execution_count": null,
   "id": "bb373e1e",
   "metadata": {},
   "outputs": [],
   "source": [
    "min(tuple)      # return the minimum element in tuple"
   ]
  },
  {
   "cell_type": "code",
   "execution_count": null,
   "id": "e9139334",
   "metadata": {},
   "outputs": [],
   "source": []
  },
  {
   "cell_type": "code",
   "execution_count": null,
   "id": "5f3653ad",
   "metadata": {},
   "outputs": [],
   "source": [
    "max(tuple)      # return the maximum element in tuple"
   ]
  },
  {
   "cell_type": "code",
   "execution_count": null,
   "id": "bf227d3b",
   "metadata": {},
   "outputs": [],
   "source": []
  },
  {
   "cell_type": "code",
   "execution_count": null,
   "id": "6555ae7a",
   "metadata": {},
   "outputs": [],
   "source": [
    "del(tuple)      # Removes all the elements from the tuple"
   ]
  },
  {
   "cell_type": "code",
   "execution_count": null,
   "id": "d08870fb",
   "metadata": {},
   "outputs": [],
   "source": []
  },
  {
   "cell_type": "code",
   "execution_count": null,
   "id": "01fc1e95",
   "metadata": {},
   "outputs": [],
   "source": [
    "sum(tuple)             # Sum of numbers in the Tuple"
   ]
  },
  {
   "cell_type": "code",
   "execution_count": null,
   "id": "6dbfe0bf",
   "metadata": {},
   "outputs": [],
   "source": []
  },
  {
   "cell_type": "markdown",
   "id": "9a9ad437",
   "metadata": {},
   "source": [
    "# -------------------------------------Page End-------------------------------------\n",
    "Asterisc.in \n",
    "We will help you bring out the best in you...!! \n",
    "Industrial Training / Internship / College Projects\n",
    "Contact 7744822228 / 7743822228 \n",
    "Branches : Bhande Plot | Tiranga Chowk | Friends Colony"
   ]
  }
 ],
 "metadata": {
  "kernelspec": {
   "display_name": "Python 3 (ipykernel)",
   "language": "python",
   "name": "python3"
  },
  "language_info": {
   "codemirror_mode": {
    "name": "ipython",
    "version": 3
   },
   "file_extension": ".py",
   "mimetype": "text/x-python",
   "name": "python",
   "nbconvert_exporter": "python",
   "pygments_lexer": "ipython3",
   "version": "3.10.3"
  }
 },
 "nbformat": 4,
 "nbformat_minor": 5
}
