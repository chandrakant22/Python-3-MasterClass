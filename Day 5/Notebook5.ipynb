{
 "cells": [
  {
   "cell_type": "markdown",
   "id": "48e2f4f2",
   "metadata": {},
   "source": [
    "# Python Lists\n",
    "\n",
    "Lists are used to store multiple items in a single variable.\n",
    "\n",
    "1> Ordered\n",
    "2> Mutable\n",
    "3> [] or list()\n",
    "4> Allow Duplicate"
   ]
  },
  {
   "cell_type": "code",
   "execution_count": null,
   "id": "578206a9",
   "metadata": {},
   "outputs": [],
   "source": []
  },
  {
   "cell_type": "markdown",
   "id": "9d7ab3b1",
   "metadata": {},
   "source": [
    "# Access Items\n",
    "\n",
    "Indexing [1]\n",
    "Negative Indexing [-1]\n",
    "\n",
    "# Slicing\n",
    "\n",
    "Range of Indexes  [2:5]\n",
    "Range of Negative Indexes[-4:-1]\n",
    "\n",
    "# Check\n",
    "\n",
    "Check if Item Exists --> in"
   ]
  },
  {
   "cell_type": "code",
   "execution_count": null,
   "id": "a04a5582",
   "metadata": {},
   "outputs": [],
   "source": []
  },
  {
   "cell_type": "markdown",
   "id": "6a548f8c",
   "metadata": {},
   "source": [
    "# List Methods"
   ]
  },
  {
   "cell_type": "code",
   "execution_count": null,
   "id": "1507fd1f",
   "metadata": {},
   "outputs": [],
   "source": [
    "len(iterable)             # many items a list has"
   ]
  },
  {
   "cell_type": "code",
   "execution_count": null,
   "id": "1ae22eef",
   "metadata": {},
   "outputs": [],
   "source": []
  },
  {
   "cell_type": "code",
   "execution_count": null,
   "id": "894195b1",
   "metadata": {},
   "outputs": [],
   "source": [
    "append(element)           # Adds an element at the end of the list"
   ]
  },
  {
   "cell_type": "code",
   "execution_count": null,
   "id": "c2dfe407",
   "metadata": {},
   "outputs": [],
   "source": []
  },
  {
   "cell_type": "code",
   "execution_count": null,
   "id": "ca8eff82",
   "metadata": {},
   "outputs": [],
   "source": [
    "clear()                   # Removes all the elements from the list"
   ]
  },
  {
   "cell_type": "code",
   "execution_count": null,
   "id": "a3ec8298",
   "metadata": {},
   "outputs": [],
   "source": []
  },
  {
   "cell_type": "code",
   "execution_count": null,
   "id": "c3fff132",
   "metadata": {},
   "outputs": [],
   "source": [
    "copy()                    # Returns a copy of the list"
   ]
  },
  {
   "cell_type": "code",
   "execution_count": null,
   "id": "3f677548",
   "metadata": {},
   "outputs": [],
   "source": []
  },
  {
   "cell_type": "code",
   "execution_count": null,
   "id": "17c982d3",
   "metadata": {},
   "outputs": [],
   "source": [
    "count(value)              # Returns the number of elements with the specified value"
   ]
  },
  {
   "cell_type": "code",
   "execution_count": null,
   "id": "73b59d7d",
   "metadata": {},
   "outputs": [],
   "source": []
  },
  {
   "cell_type": "code",
   "execution_count": null,
   "id": "616e5104",
   "metadata": {},
   "outputs": [],
   "source": [
    "extend(iterable)          # Add the elements of a list to the end of the current list"
   ]
  },
  {
   "cell_type": "code",
   "execution_count": null,
   "id": "64c62fd4",
   "metadata": {},
   "outputs": [],
   "source": []
  },
  {
   "cell_type": "code",
   "execution_count": null,
   "id": "ba980f6c",
   "metadata": {},
   "outputs": [],
   "source": [
    "index(element)            # Returns the index of the first element with the specified value"
   ]
  },
  {
   "cell_type": "code",
   "execution_count": null,
   "id": "f7186223",
   "metadata": {},
   "outputs": [],
   "source": []
  },
  {
   "cell_type": "code",
   "execution_count": null,
   "id": "23abadf9",
   "metadata": {},
   "outputs": [],
   "source": [
    "insert(position, element) # Adds an element at the specified position"
   ]
  },
  {
   "cell_type": "code",
   "execution_count": null,
   "id": "bb542a7f",
   "metadata": {},
   "outputs": [],
   "source": []
  },
  {
   "cell_type": "code",
   "execution_count": null,
   "id": "b7e22557",
   "metadata": {},
   "outputs": [],
   "source": [
    "pop(position)             # Removes the element at the specified position"
   ]
  },
  {
   "cell_type": "code",
   "execution_count": null,
   "id": "8c1016e3",
   "metadata": {},
   "outputs": [],
   "source": []
  },
  {
   "cell_type": "code",
   "execution_count": null,
   "id": "1e6fc98c",
   "metadata": {},
   "outputs": [],
   "source": [
    "remove(element)           # Removes the item with the specified value"
   ]
  },
  {
   "cell_type": "code",
   "execution_count": null,
   "id": "2765d6a6",
   "metadata": {},
   "outputs": [],
   "source": []
  },
  {
   "cell_type": "code",
   "execution_count": null,
   "id": "17400d2c",
   "metadata": {},
   "outputs": [],
   "source": [
    "reverse()                 # Reverses the order of the list"
   ]
  },
  {
   "cell_type": "code",
   "execution_count": null,
   "id": "1716b82c",
   "metadata": {},
   "outputs": [],
   "source": []
  },
  {
   "cell_type": "code",
   "execution_count": null,
   "id": "32d81246",
   "metadata": {},
   "outputs": [],
   "source": [
    "sort()                    # Sorts the list"
   ]
  },
  {
   "cell_type": "code",
   "execution_count": null,
   "id": "bc07ac25",
   "metadata": {},
   "outputs": [],
   "source": []
  },
  {
   "cell_type": "markdown",
   "id": "9a9ad437",
   "metadata": {},
   "source": [
    "# -------------------------------------Page End-------------------------------------\n",
    "Asterisc.in \n",
    "We will help you bring out the best in you...!! \n",
    "Industrial Training / Internship / College Projects\n",
    "Contact 7744822228 / 7743822228 \n",
    "Branches : Bhande Plot | Tiranga Chowk | Friends Colony"
   ]
  }
 ],
 "metadata": {
  "kernelspec": {
   "display_name": "Python 3 (ipykernel)",
   "language": "python",
   "name": "python3"
  },
  "language_info": {
   "codemirror_mode": {
    "name": "ipython",
    "version": 3
   },
   "file_extension": ".py",
   "mimetype": "text/x-python",
   "name": "python",
   "nbconvert_exporter": "python",
   "pygments_lexer": "ipython3",
   "version": "3.10.3"
  }
 },
 "nbformat": 4,
 "nbformat_minor": 5
}
