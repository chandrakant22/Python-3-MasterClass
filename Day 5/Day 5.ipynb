{
 "cells": [
  {
   "cell_type": "markdown",
   "id": "48e2f4f2",
   "metadata": {},
   "source": [
    "# Python Lists\n",
    "\n",
    "Lists are used to store multiple items in a single variable.\n",
    "\n",
    "1> Ordered\n",
    "2> Mutable\n",
    "3> [] or list()\n",
    "4> Allow Duplicate"
   ]
  },
  {
   "cell_type": "code",
   "execution_count": 3,
   "id": "578206a9",
   "metadata": {},
   "outputs": [
    {
     "data": {
      "text/plain": [
       "list"
      ]
     },
     "execution_count": 3,
     "metadata": {},
     "output_type": "execute_result"
    }
   ],
   "source": [
    "x=[1,2,34,45,56,6,7,7]\n",
    "y=list()\n",
    "\n",
    "type(y)"
   ]
  },
  {
   "cell_type": "markdown",
   "id": "9d7ab3b1",
   "metadata": {},
   "source": [
    "# Access Items\n",
    "\n",
    "Indexing [1]\n",
    "Negative Indexing [-1]\n",
    "\n",
    "# Slicing\n",
    "\n",
    "Range of Indexes  [2:5]\n",
    "Range of Negative Indexes[-4:-1]\n",
    "\n",
    "# Check\n",
    "\n",
    "Check if Item Exists --> in"
   ]
  },
  {
   "cell_type": "code",
   "execution_count": 9,
   "id": "a04a5582",
   "metadata": {},
   "outputs": [
    {
     "name": "stdout",
     "output_type": "stream",
     "text": [
      "[]\n"
     ]
    }
   ],
   "source": [
    "x=[1,2,34,45,56,6,7,7]\n",
    "print(x[-5:-6])"
   ]
  },
  {
   "cell_type": "markdown",
   "id": "6a548f8c",
   "metadata": {},
   "source": [
    "# List Methods"
   ]
  },
  {
   "cell_type": "code",
   "execution_count": null,
   "id": "1507fd1f",
   "metadata": {},
   "outputs": [],
   "source": [
    "len(iterable)             # many items a list has"
   ]
  },
  {
   "cell_type": "code",
   "execution_count": 10,
   "id": "1ae22eef",
   "metadata": {},
   "outputs": [
    {
     "name": "stdout",
     "output_type": "stream",
     "text": [
      "8\n"
     ]
    }
   ],
   "source": [
    "print(len(x))"
   ]
  },
  {
   "cell_type": "code",
   "execution_count": null,
   "id": "894195b1",
   "metadata": {},
   "outputs": [],
   "source": [
    "append(element)           # Adds an element at the end of the list"
   ]
  },
  {
   "cell_type": "code",
   "execution_count": 13,
   "id": "c2dfe407",
   "metadata": {},
   "outputs": [
    {
     "name": "stdout",
     "output_type": "stream",
     "text": [
      "[1, 2, 34, 45, 56, 6, 7, 7, 99, 99, 99]\n"
     ]
    }
   ],
   "source": [
    "x.append(99)\n",
    "\n",
    "print(x)"
   ]
  },
  {
   "cell_type": "code",
   "execution_count": null,
   "id": "ca8eff82",
   "metadata": {},
   "outputs": [],
   "source": [
    "clear()                   # Removes all the elements from the list"
   ]
  },
  {
   "cell_type": "code",
   "execution_count": 14,
   "id": "a3ec8298",
   "metadata": {},
   "outputs": [],
   "source": [
    "x.clear()"
   ]
  },
  {
   "cell_type": "code",
   "execution_count": 20,
   "id": "e1c3bb5d",
   "metadata": {},
   "outputs": [],
   "source": [
    "x=[1,2,34,45,56,6,7,7]"
   ]
  },
  {
   "cell_type": "code",
   "execution_count": 21,
   "id": "e3f69bd2",
   "metadata": {},
   "outputs": [
    {
     "data": {
      "text/plain": [
       "[1, 2, 34, 45, 56, 6, 7, 7]"
      ]
     },
     "execution_count": 21,
     "metadata": {},
     "output_type": "execute_result"
    }
   ],
   "source": [
    "x"
   ]
  },
  {
   "cell_type": "code",
   "execution_count": 22,
   "id": "3f677548",
   "metadata": {},
   "outputs": [],
   "source": [
    "x.append(55)"
   ]
  },
  {
   "cell_type": "code",
   "execution_count": 23,
   "id": "89d0d04f",
   "metadata": {},
   "outputs": [
    {
     "data": {
      "text/plain": [
       "[1, 2, 34, 45, 56, 6, 7, 7, 55]"
      ]
     },
     "execution_count": 23,
     "metadata": {},
     "output_type": "execute_result"
    }
   ],
   "source": [
    "x"
   ]
  },
  {
   "cell_type": "code",
   "execution_count": null,
   "id": "c3fff132",
   "metadata": {},
   "outputs": [],
   "source": [
    "copy()                    # Returns a copy of the list"
   ]
  },
  {
   "cell_type": "code",
   "execution_count": 24,
   "id": "8cb7d8ba",
   "metadata": {},
   "outputs": [],
   "source": [
    "y=x.copy()"
   ]
  },
  {
   "cell_type": "code",
   "execution_count": 25,
   "id": "efb93e14",
   "metadata": {},
   "outputs": [
    {
     "data": {
      "text/plain": [
       "[1, 2, 34, 45, 56, 6, 7, 7, 55]"
      ]
     },
     "execution_count": 25,
     "metadata": {},
     "output_type": "execute_result"
    }
   ],
   "source": [
    "y"
   ]
  },
  {
   "cell_type": "code",
   "execution_count": null,
   "id": "17c982d3",
   "metadata": {},
   "outputs": [],
   "source": [
    "count(value)              # Returns the number of elements with the specified value"
   ]
  },
  {
   "cell_type": "code",
   "execution_count": 26,
   "id": "73b59d7d",
   "metadata": {},
   "outputs": [],
   "source": [
    "a=x.count(7)"
   ]
  },
  {
   "cell_type": "code",
   "execution_count": 27,
   "id": "d95b8523",
   "metadata": {},
   "outputs": [
    {
     "data": {
      "text/plain": [
       "2"
      ]
     },
     "execution_count": 27,
     "metadata": {},
     "output_type": "execute_result"
    }
   ],
   "source": [
    "a"
   ]
  },
  {
   "cell_type": "code",
   "execution_count": null,
   "id": "616e5104",
   "metadata": {},
   "outputs": [],
   "source": [
    "extend(iterable)          # Add the elements of a list to the end of the current list"
   ]
  },
  {
   "cell_type": "code",
   "execution_count": 28,
   "id": "64c62fd4",
   "metadata": {},
   "outputs": [
    {
     "data": {
      "text/plain": [
       "[1, 2, 34, 45, 56, 6, 7, 7, 55]"
      ]
     },
     "execution_count": 28,
     "metadata": {},
     "output_type": "execute_result"
    }
   ],
   "source": [
    "x"
   ]
  },
  {
   "cell_type": "code",
   "execution_count": 30,
   "id": "57d46b35",
   "metadata": {},
   "outputs": [],
   "source": [
    "k=[33,55,676,777]"
   ]
  },
  {
   "cell_type": "code",
   "execution_count": 31,
   "id": "9a4c3341",
   "metadata": {},
   "outputs": [],
   "source": [
    "x.extend(k)"
   ]
  },
  {
   "cell_type": "code",
   "execution_count": 32,
   "id": "d22da745",
   "metadata": {},
   "outputs": [
    {
     "data": {
      "text/plain": [
       "[1, 2, 34, 45, 56, 6, 7, 7, 55, 33, 55, 676, 777]"
      ]
     },
     "execution_count": 32,
     "metadata": {},
     "output_type": "execute_result"
    }
   ],
   "source": [
    "x"
   ]
  },
  {
   "cell_type": "code",
   "execution_count": null,
   "id": "ba980f6c",
   "metadata": {},
   "outputs": [],
   "source": [
    "index(element)            # Returns the index of the first element with the specified value"
   ]
  },
  {
   "cell_type": "code",
   "execution_count": 36,
   "id": "f7186223",
   "metadata": {},
   "outputs": [
    {
     "name": "stdout",
     "output_type": "stream",
     "text": [
      "6\n"
     ]
    }
   ],
   "source": [
    "print(x.index(7))"
   ]
  },
  {
   "cell_type": "code",
   "execution_count": null,
   "id": "23abadf9",
   "metadata": {},
   "outputs": [],
   "source": [
    "insert(position, element) # Adds an element at the specified position"
   ]
  },
  {
   "cell_type": "code",
   "execution_count": 37,
   "id": "bb542a7f",
   "metadata": {},
   "outputs": [
    {
     "data": {
      "text/plain": [
       "[1, 2, 34, 45, 56, 6, 7, 7, 55, 33, 55, 676, 777]"
      ]
     },
     "execution_count": 37,
     "metadata": {},
     "output_type": "execute_result"
    }
   ],
   "source": [
    "x"
   ]
  },
  {
   "cell_type": "code",
   "execution_count": 38,
   "id": "f66aa393",
   "metadata": {},
   "outputs": [],
   "source": [
    "x.insert(3,40)"
   ]
  },
  {
   "cell_type": "code",
   "execution_count": 39,
   "id": "267039af",
   "metadata": {},
   "outputs": [
    {
     "data": {
      "text/plain": [
       "[1, 2, 34, 40, 45, 56, 6, 7, 7, 55, 33, 55, 676, 777]"
      ]
     },
     "execution_count": 39,
     "metadata": {},
     "output_type": "execute_result"
    }
   ],
   "source": [
    "x"
   ]
  },
  {
   "cell_type": "code",
   "execution_count": null,
   "id": "b7e22557",
   "metadata": {},
   "outputs": [],
   "source": [
    "pop(position)             # Removes the element at the specified position"
   ]
  },
  {
   "cell_type": "code",
   "execution_count": 40,
   "id": "8c1016e3",
   "metadata": {},
   "outputs": [
    {
     "data": {
      "text/plain": [
       "45"
      ]
     },
     "execution_count": 40,
     "metadata": {},
     "output_type": "execute_result"
    }
   ],
   "source": [
    "x.pop(4)"
   ]
  },
  {
   "cell_type": "code",
   "execution_count": 41,
   "id": "c66f7d20",
   "metadata": {},
   "outputs": [
    {
     "data": {
      "text/plain": [
       "[1, 2, 34, 40, 56, 6, 7, 7, 55, 33, 55, 676, 777]"
      ]
     },
     "execution_count": 41,
     "metadata": {},
     "output_type": "execute_result"
    }
   ],
   "source": [
    "x"
   ]
  },
  {
   "cell_type": "code",
   "execution_count": null,
   "id": "1e6fc98c",
   "metadata": {},
   "outputs": [],
   "source": [
    "remove(element)           # Removes the item with the specified value"
   ]
  },
  {
   "cell_type": "code",
   "execution_count": 42,
   "id": "2765d6a6",
   "metadata": {},
   "outputs": [],
   "source": []
  },
  {
   "cell_type": "code",
   "execution_count": 44,
   "id": "4de3b57f",
   "metadata": {},
   "outputs": [],
   "source": [
    "x.append(7)"
   ]
  },
  {
   "cell_type": "code",
   "execution_count": 45,
   "id": "2c5c6092",
   "metadata": {},
   "outputs": [
    {
     "data": {
      "text/plain": [
       "[1, 2, 34, 40, 56, 6, 7, 55, 33, 55, 676, 777, 7]"
      ]
     },
     "execution_count": 45,
     "metadata": {},
     "output_type": "execute_result"
    }
   ],
   "source": [
    "x"
   ]
  },
  {
   "cell_type": "code",
   "execution_count": 46,
   "id": "3c7408d1",
   "metadata": {},
   "outputs": [],
   "source": [
    "x.remove(7)"
   ]
  },
  {
   "cell_type": "code",
   "execution_count": 47,
   "id": "11a16771",
   "metadata": {},
   "outputs": [
    {
     "data": {
      "text/plain": [
       "[1, 2, 34, 40, 56, 6, 55, 33, 55, 676, 777, 7]"
      ]
     },
     "execution_count": 47,
     "metadata": {},
     "output_type": "execute_result"
    }
   ],
   "source": [
    "x"
   ]
  },
  {
   "cell_type": "code",
   "execution_count": null,
   "id": "17400d2c",
   "metadata": {},
   "outputs": [],
   "source": [
    "reverse()                 # Reverses the order of the list"
   ]
  },
  {
   "cell_type": "code",
   "execution_count": 48,
   "id": "1716b82c",
   "metadata": {},
   "outputs": [],
   "source": [
    "x.reverse()"
   ]
  },
  {
   "cell_type": "code",
   "execution_count": 49,
   "id": "c548fb57",
   "metadata": {},
   "outputs": [
    {
     "data": {
      "text/plain": [
       "[7, 777, 676, 55, 33, 55, 6, 56, 40, 34, 2, 1]"
      ]
     },
     "execution_count": 49,
     "metadata": {},
     "output_type": "execute_result"
    }
   ],
   "source": [
    "x"
   ]
  },
  {
   "cell_type": "code",
   "execution_count": null,
   "id": "32d81246",
   "metadata": {},
   "outputs": [],
   "source": [
    "sort()                    # Sorts the list"
   ]
  },
  {
   "cell_type": "code",
   "execution_count": 50,
   "id": "bc07ac25",
   "metadata": {},
   "outputs": [],
   "source": [
    "x.sort()"
   ]
  },
  {
   "cell_type": "code",
   "execution_count": 51,
   "id": "755a3ef4",
   "metadata": {},
   "outputs": [
    {
     "data": {
      "text/plain": [
       "[1, 2, 6, 7, 33, 34, 40, 55, 55, 56, 676, 777]"
      ]
     },
     "execution_count": 51,
     "metadata": {},
     "output_type": "execute_result"
    }
   ],
   "source": [
    "x"
   ]
  },
  {
   "cell_type": "code",
   "execution_count": 57,
   "id": "84f33b36",
   "metadata": {},
   "outputs": [],
   "source": [
    "name=[\"ram\",\"sham\",\"pooja\",\"rohit\",\"yash\",30,49,45656]"
   ]
  },
  {
   "cell_type": "code",
   "execution_count": 58,
   "id": "59ae34eb",
   "metadata": {},
   "outputs": [
    {
     "ename": "TypeError",
     "evalue": "'<' not supported between instances of 'int' and 'str'",
     "output_type": "error",
     "traceback": [
      "\u001b[1;31m---------------------------------------------------------------------------\u001b[0m",
      "\u001b[1;31mTypeError\u001b[0m                                 Traceback (most recent call last)",
      "Input \u001b[1;32mIn [58]\u001b[0m, in \u001b[0;36m<cell line: 1>\u001b[1;34m()\u001b[0m\n\u001b[1;32m----> 1\u001b[0m \u001b[43mname\u001b[49m\u001b[38;5;241;43m.\u001b[39;49m\u001b[43msort\u001b[49m\u001b[43m(\u001b[49m\u001b[43m)\u001b[49m\n\u001b[0;32m      2\u001b[0m \u001b[38;5;28mprint\u001b[39m(name)\n",
      "\u001b[1;31mTypeError\u001b[0m: '<' not supported between instances of 'int' and 'str'"
     ]
    }
   ],
   "source": [
    "name.sort()\n",
    "print(name)"
   ]
  },
  {
   "cell_type": "code",
   "execution_count": null,
   "id": "d89e5ce6",
   "metadata": {},
   "outputs": [],
   "source": [
    "44,5"
   ]
  },
  {
   "cell_type": "markdown",
   "id": "9a9ad437",
   "metadata": {},
   "source": [
    "# -------------------------------------Page End-------------------------------------\n",
    "Asterisc.in \n",
    "We will help you bring out the best in you...!! \n",
    "Industrial Training / Internship / College Projects\n",
    "Contact 7744822228 / 7743822228 \n",
    "Branches : Bhande Plot | Tiranga Chowk | Friends Colony"
   ]
  }
 ],
 "metadata": {
  "kernelspec": {
   "display_name": "Python 3 (ipykernel)",
   "language": "python",
   "name": "python3"
  },
  "language_info": {
   "codemirror_mode": {
    "name": "ipython",
    "version": 3
   },
   "file_extension": ".py",
   "mimetype": "text/x-python",
   "name": "python",
   "nbconvert_exporter": "python",
   "pygments_lexer": "ipython3",
   "version": "3.10.3"
  }
 },
 "nbformat": 4,
 "nbformat_minor": 5
}
