{
 "cells": [
  {
   "cell_type": "code",
   "execution_count": 6,
   "id": "114ccbdb",
   "metadata": {},
   "outputs": [
    {
     "name": "stdout",
     "output_type": "stream",
     "text": [
      "Enter any number6\n",
      "6 != 720\n"
     ]
    }
   ],
   "source": [
    "def fact(n):\n",
    "    if n == 1:\n",
    "        return n\n",
    "    else:\n",
    "        return n*fact(n-1)\n",
    "x=int(input(\"Enter any number\"))\n",
    "if x<0:\n",
    "    print(\"Not possible\")\n",
    "elif x==0:\n",
    "    print(\"0! = 1\")\n",
    "else:\n",
    "    f=fact(x)\n",
    "    print(x,\"!=\",f)"
   ]
  },
  {
   "cell_type": "code",
   "execution_count": null,
   "id": "5de091d0",
   "metadata": {},
   "outputs": [],
   "source": []
  },
  {
   "cell_type": "code",
   "execution_count": null,
   "id": "69c1ce3c",
   "metadata": {},
   "outputs": [],
   "source": []
  }
 ],
 "metadata": {
  "kernelspec": {
   "display_name": "Python 3 (ipykernel)",
   "language": "python",
   "name": "python3"
  },
  "language_info": {
   "codemirror_mode": {
    "name": "ipython",
    "version": 3
   },
   "file_extension": ".py",
   "mimetype": "text/x-python",
   "name": "python",
   "nbconvert_exporter": "python",
   "pygments_lexer": "ipython3",
   "version": "3.10.3"
  }
 },
 "nbformat": 4,
 "nbformat_minor": 5
}
