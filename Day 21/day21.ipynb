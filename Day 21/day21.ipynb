{
 "cells": [
  {
   "cell_type": "code",
   "execution_count": 13,
   "id": "de462f99",
   "metadata": {},
   "outputs": [
    {
     "name": "stdout",
     "output_type": "stream",
     "text": [
      "Enter any number1 sdfdfv\n"
     ]
    },
    {
     "ename": "ValueError",
     "evalue": "invalid literal for int() with base 10: 'sdfdfv'",
     "output_type": "error",
     "traceback": [
      "\u001b[1;31m---------------------------------------------------------------------------\u001b[0m",
      "\u001b[1;31mValueError\u001b[0m                                Traceback (most recent call last)",
      "Input \u001b[1;32mIn [13]\u001b[0m, in \u001b[0;36m<cell line: 1>\u001b[1;34m()\u001b[0m\n\u001b[1;32m----> 1\u001b[0m a\u001b[38;5;241m=\u001b[39m\u001b[38;5;28;43mint\u001b[39;49m\u001b[43m(\u001b[49m\u001b[38;5;28;43minput\u001b[39;49m\u001b[43m(\u001b[49m\u001b[38;5;124;43m\"\u001b[39;49m\u001b[38;5;124;43mEnter any number1 \u001b[39;49m\u001b[38;5;124;43m\"\u001b[39;49m\u001b[43m)\u001b[49m\u001b[43m)\u001b[49m\n\u001b[0;32m      2\u001b[0m b\u001b[38;5;241m=\u001b[39m\u001b[38;5;28mint\u001b[39m(\u001b[38;5;28minput\u001b[39m(\u001b[38;5;124m\"\u001b[39m\u001b[38;5;124mEnter any number2 \u001b[39m\u001b[38;5;124m\"\u001b[39m))\n\u001b[0;32m      3\u001b[0m c\u001b[38;5;241m=\u001b[39ma\u001b[38;5;241m/\u001b[39mb\n",
      "\u001b[1;31mValueError\u001b[0m: invalid literal for int() with base 10: 'sdfdfv'"
     ]
    }
   ],
   "source": [
    "a=int(input(\"Enter any number1 \"))\n",
    "b=int(input(\"Enter any number2 \"))\n",
    "c=a/b\n",
    "\n",
    "print(\"Result =\",c)\n",
    "print(\"hello dear student\")\n"
   ]
  },
  {
   "cell_type": "code",
   "execution_count": 16,
   "id": "82a837d7",
   "metadata": {},
   "outputs": [
    {
     "name": "stdout",
     "output_type": "stream",
     "text": [
      "Enter any number1 xcfvdxfg\n",
      "Code 777 Error input int only\n",
      "hello dear student\n"
     ]
    }
   ],
   "source": [
    "try:\n",
    "    a=int(input(\"Enter any number1 \"))\n",
    "    b=int(input(\"Enter any number2 \"))\n",
    "    c=a/b\n",
    "    print(\"Result =\",c)\n",
    "except ZeroDivisionError:\n",
    "    print(\"Code 222 Error / by zero\")\n",
    "except ValueError:\n",
    "    print(\"Code 777 Error input int only\")\n",
    "else:\n",
    "    print(\"Code 333\")\n",
    "    \n",
    "print(\"hello dear student\")"
   ]
  },
  {
   "cell_type": "code",
   "execution_count": null,
   "id": "9ba344c6",
   "metadata": {},
   "outputs": [],
   "source": []
  }
 ],
 "metadata": {
  "kernelspec": {
   "display_name": "Python 3 (ipykernel)",
   "language": "python",
   "name": "python3"
  },
  "language_info": {
   "codemirror_mode": {
    "name": "ipython",
    "version": 3
   },
   "file_extension": ".py",
   "mimetype": "text/x-python",
   "name": "python",
   "nbconvert_exporter": "python",
   "pygments_lexer": "ipython3",
   "version": "3.10.3"
  }
 },
 "nbformat": 4,
 "nbformat_minor": 5
}
