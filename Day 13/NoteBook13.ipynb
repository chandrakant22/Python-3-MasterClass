{
 "cells": [
  {
   "cell_type": "code",
   "execution_count": null,
   "id": "3b461f19",
   "metadata": {},
   "outputs": [],
   "source": [
    "#name\n",
    "#call\n",
    "#para\n",
    "#return"
   ]
  },
  {
   "cell_type": "code",
   "execution_count": 5,
   "id": "df46811f",
   "metadata": {},
   "outputs": [],
   "source": [
    "def myfun(a,b):\n",
    "    return a+b\n",
    "\n",
    "x=myfun(10,2)"
   ]
  },
  {
   "cell_type": "code",
   "execution_count": 6,
   "id": "daddee28",
   "metadata": {},
   "outputs": [
    {
     "name": "stdout",
     "output_type": "stream",
     "text": [
      "12\n"
     ]
    }
   ],
   "source": [
    "print(x)"
   ]
  },
  {
   "cell_type": "code",
   "execution_count": null,
   "id": "19df3326",
   "metadata": {},
   "outputs": [],
   "source": [
    "Lambda function"
   ]
  },
  {
   "cell_type": "code",
   "execution_count": 7,
   "id": "c4304169",
   "metadata": {},
   "outputs": [
    {
     "name": "stdout",
     "output_type": "stream",
     "text": [
      "4\n"
     ]
    }
   ],
   "source": [
    "def my(a):\n",
    "    return a*a\n",
    "\n",
    "x=my(2)\n",
    "\n",
    "print(x)"
   ]
  },
  {
   "cell_type": "code",
   "execution_count": 8,
   "id": "cf56ae72",
   "metadata": {},
   "outputs": [
    {
     "name": "stdout",
     "output_type": "stream",
     "text": [
      "4\n"
     ]
    }
   ],
   "source": [
    "x=lambda a :a*a\n",
    "\n",
    "print(x(2))"
   ]
  },
  {
   "cell_type": "code",
   "execution_count": null,
   "id": "d295b5cc",
   "metadata": {},
   "outputs": [],
   "source": [
    "lambda arguments : expression"
   ]
  },
  {
   "cell_type": "code",
   "execution_count": 9,
   "id": "b531eb35",
   "metadata": {},
   "outputs": [
    {
     "name": "stdout",
     "output_type": "stream",
     "text": [
      "15\n"
     ]
    }
   ],
   "source": [
    "def add(a,b,c):\n",
    "    return a+b+c\n",
    "\n",
    "print(add(10,5,2))"
   ]
  },
  {
   "cell_type": "code",
   "execution_count": null,
   "id": "719ef326",
   "metadata": {},
   "outputs": [],
   "source": [
    "The power of lambda is better shown when you use them as an anonymous function\n",
    "inside another function."
   ]
  },
  {
   "cell_type": "code",
   "execution_count": 10,
   "id": "d52ba55e",
   "metadata": {},
   "outputs": [
    {
     "name": "stdout",
     "output_type": "stream",
     "text": [
      "15\n"
     ]
    }
   ],
   "source": [
    "mysum =lambda a,b : a+b\n",
    "print(mysum(10,5))"
   ]
  },
  {
   "cell_type": "code",
   "execution_count": 13,
   "id": "07789ea4",
   "metadata": {},
   "outputs": [],
   "source": [
    "def myfun(n):\n",
    "    return lambda a : a+n"
   ]
  },
  {
   "cell_type": "code",
   "execution_count": 14,
   "id": "067d0c26",
   "metadata": {},
   "outputs": [],
   "source": [
    "mysqr=myfun(2)"
   ]
  },
  {
   "cell_type": "code",
   "execution_count": 15,
   "id": "ea7621be",
   "metadata": {},
   "outputs": [
    {
     "name": "stdout",
     "output_type": "stream",
     "text": [
      "7\n"
     ]
    }
   ],
   "source": [
    "print(mysqr(5))"
   ]
  },
  {
   "cell_type": "code",
   "execution_count": 16,
   "id": "4cabd24d",
   "metadata": {},
   "outputs": [],
   "source": [
    "def bigger(a):\n",
    "    return lambda b: a>b"
   ]
  },
  {
   "cell_type": "code",
   "execution_count": 20,
   "id": "335b48f7",
   "metadata": {},
   "outputs": [],
   "source": [
    "res1=bigger(9)\n",
    "res2=bigger(3)"
   ]
  },
  {
   "cell_type": "code",
   "execution_count": 21,
   "id": "1f7ac536",
   "metadata": {},
   "outputs": [
    {
     "name": "stdout",
     "output_type": "stream",
     "text": [
      "True\n",
      "False\n"
     ]
    }
   ],
   "source": [
    "print(res1(5))\n",
    "print(res2(5))"
   ]
  },
  {
   "cell_type": "code",
   "execution_count": null,
   "id": "499a25b1",
   "metadata": {},
   "outputs": [],
   "source": [
    "def myfunc(n):\n",
    "    return lambda a : a * n\n",
    "\n",
    "mydoubler = myfunc(2)\n",
    "mytripler = myfunc(3)\n",
    "\n",
    "print(mydoubler(11))\n",
    "print(mytripler(11))"
   ]
  },
  {
   "cell_type": "code",
   "execution_count": null,
   "id": "d7e83086",
   "metadata": {},
   "outputs": [],
   "source": []
  },
  {
   "cell_type": "code",
   "execution_count": 22,
   "id": "0b2c354e",
   "metadata": {},
   "outputs": [
    {
     "name": "stdout",
     "output_type": "stream",
     "text": [
      "hello dear student\n"
     ]
    }
   ],
   "source": [
    "#no return no args\n",
    "def show():\n",
    "    print(\"hello dear student\")\n",
    "    \n",
    "show()"
   ]
  },
  {
   "cell_type": "code",
   "execution_count": null,
   "id": "1bb8315c",
   "metadata": {},
   "outputs": [],
   "source": [
    "#no return but args"
   ]
  },
  {
   "cell_type": "code",
   "execution_count": 23,
   "id": "d2290389",
   "metadata": {},
   "outputs": [
    {
     "name": "stdout",
     "output_type": "stream",
     "text": [
      "hello dear ram\n"
     ]
    }
   ],
   "source": [
    "def show(name):\n",
    "    print(\"hello dear\",name)\n",
    "    \n",
    "show(\"ram\")"
   ]
  },
  {
   "cell_type": "code",
   "execution_count": null,
   "id": "b6711ba6",
   "metadata": {},
   "outputs": [],
   "source": [
    "#return no args"
   ]
  },
  {
   "cell_type": "code",
   "execution_count": null,
   "id": "cdd1ba36",
   "metadata": {},
   "outputs": [],
   "source": [
    "def show():\n",
    "    return \"asterisc\"\n",
    "    \n",
    "x=show()\n",
    "print(x)"
   ]
  },
  {
   "cell_type": "code",
   "execution_count": null,
   "id": "307b9797",
   "metadata": {},
   "outputs": [],
   "source": [
    "#return & args"
   ]
  },
  {
   "cell_type": "code",
   "execution_count": 24,
   "id": "29d486a2",
   "metadata": {},
   "outputs": [
    {
     "name": "stdout",
     "output_type": "stream",
     "text": [
      "hello dear ram\n"
     ]
    }
   ],
   "source": [
    "def show(name):\n",
    "     return \"hello dear \"+name;\n",
    "    \n",
    "x = show(\"ram\")\n",
    "print(x)"
   ]
  },
  {
   "cell_type": "code",
   "execution_count": null,
   "id": "61310cc0",
   "metadata": {},
   "outputs": [
    {
     "name": "stdout",
     "output_type": "stream",
     "text": [
      "hello dear\n",
      "hello dear\n",
      "hello dear\n",
      "hello dear\n",
      "hello dear\n",
      "hello dear\n",
      "hello dear\n",
      "hello dear\n",
      "hello dear\n",
      "hello dear\n",
      "hello dear\n",
      "hello dear\n",
      "hello dear\n"
     ]
    }
   ],
   "source": [
    "def show():\n",
    "     print(\"hello dear\")\n",
    "     show()\n",
    "    \n",
    "show()"
   ]
  },
  {
   "cell_type": "code",
   "execution_count": null,
   "id": "b95625f6",
   "metadata": {},
   "outputs": [],
   "source": []
  },
  {
   "cell_type": "code",
   "execution_count": null,
   "id": "857121d3",
   "metadata": {},
   "outputs": [],
   "source": []
  },
  {
   "cell_type": "code",
   "execution_count": null,
   "id": "a0fabaed",
   "metadata": {},
   "outputs": [],
   "source": []
  },
  {
   "cell_type": "code",
   "execution_count": null,
   "id": "e7aa5a9d",
   "metadata": {},
   "outputs": [],
   "source": []
  },
  {
   "cell_type": "code",
   "execution_count": null,
   "id": "d19b02e1",
   "metadata": {},
   "outputs": [],
   "source": []
  }
 ],
 "metadata": {
  "kernelspec": {
   "display_name": "Python 3 (ipykernel)",
   "language": "python",
   "name": "python3"
  },
  "language_info": {
   "codemirror_mode": {
    "name": "ipython",
    "version": 3
   },
   "file_extension": ".py",
   "mimetype": "text/x-python",
   "name": "python",
   "nbconvert_exporter": "python",
   "pygments_lexer": "ipython3",
   "version": "3.10.3"
  }
 },
 "nbformat": 4,
 "nbformat_minor": 5
}
