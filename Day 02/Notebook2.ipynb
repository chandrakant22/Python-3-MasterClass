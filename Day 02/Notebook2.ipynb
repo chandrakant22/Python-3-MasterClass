{
 "cells": [
  {
   "cell_type": "markdown",
   "id": "e6a996e5",
   "metadata": {},
   "source": [
    "# Python Data Types\n",
    "\n",
    "Built-in Data Types\n",
    "In programming, data type is an important concept.\n",
    "\n",
    "Variables can store data of different types, and different types can do different things.\n",
    "\n",
    "Python has the following data types built-in by default\n",
    "\n",
    "    Text Type:\tstr\n",
    "\n",
    "    Numeric Types  :\tint, float, complex\n",
    "\n",
    "    Sequence Types :\tlist, tuple, range\n",
    "\n",
    "    Mapping Type   :\tdict\n",
    "\n",
    "    Set Types      :\tset\n",
    "\n",
    "    Boolean Type   :\tbool\n",
    "\n",
    "    Binary Types   :\tbytes\n"
   ]
  },
  {
   "cell_type": "code",
   "execution_count": 2,
   "id": "9aac16f1",
   "metadata": {},
   "outputs": [],
   "source": [
    "a=10\n",
    "b=2.6\n",
    "c=\"hello\"\n",
    "x=\"10\"\n",
    "y='3.4'"
   ]
  },
  {
   "cell_type": "code",
   "execution_count": 5,
   "id": "15557787",
   "metadata": {},
   "outputs": [],
   "source": [
    "name=[\"ram\",\"sham\",\"geeta\",\"pooja\",\"yog\"]"
   ]
  },
  {
   "cell_type": "code",
   "execution_count": 6,
   "id": "a6655acd",
   "metadata": {},
   "outputs": [
    {
     "data": {
      "text/plain": [
       "list"
      ]
     },
     "execution_count": 6,
     "metadata": {},
     "output_type": "execute_result"
    }
   ],
   "source": [
    "type(name)"
   ]
  },
  {
   "cell_type": "code",
   "execution_count": null,
   "id": "7b592cc9",
   "metadata": {},
   "outputs": [],
   "source": [
    "a=[\"ram\",44,4.5,\"pooja\",\"yog\"]"
   ]
  },
  {
   "cell_type": "code",
   "execution_count": 7,
   "id": "d6c8473d",
   "metadata": {},
   "outputs": [
    {
     "data": {
      "text/plain": [
       "list"
      ]
     },
     "execution_count": 7,
     "metadata": {},
     "output_type": "execute_result"
    }
   ],
   "source": [
    "type(name)"
   ]
  },
  {
   "cell_type": "code",
   "execution_count": null,
   "id": "ce3b29da",
   "metadata": {},
   "outputs": [],
   "source": [
    "name=[\"ram\",44,4.5,\"pooja\",[36,6,7,7,7]]"
   ]
  },
  {
   "cell_type": "code",
   "execution_count": 10,
   "id": "0751b895",
   "metadata": {},
   "outputs": [],
   "source": [
    "name=[\"ram\",\"sham\",\"geeta\",\"pooja\",\"yog\",\"ram\"]"
   ]
  },
  {
   "cell_type": "code",
   "execution_count": 11,
   "id": "5fda1383",
   "metadata": {},
   "outputs": [
    {
     "name": "stdout",
     "output_type": "stream",
     "text": [
      "['ram', 'sham', 'geeta', 'pooja', 'yog', 'ram']\n"
     ]
    }
   ],
   "source": [
    "print(name)"
   ]
  },
  {
   "cell_type": "code",
   "execution_count": 12,
   "id": "108cb090",
   "metadata": {},
   "outputs": [],
   "source": [
    "x=[]"
   ]
  },
  {
   "cell_type": "code",
   "execution_count": 13,
   "id": "4990e3da",
   "metadata": {},
   "outputs": [
    {
     "data": {
      "text/plain": [
       "list"
      ]
     },
     "execution_count": 13,
     "metadata": {},
     "output_type": "execute_result"
    }
   ],
   "source": [
    "type(x)"
   ]
  },
  {
   "cell_type": "code",
   "execution_count": 14,
   "id": "c70a08f2",
   "metadata": {},
   "outputs": [],
   "source": [
    "a=()"
   ]
  },
  {
   "cell_type": "code",
   "execution_count": 15,
   "id": "11cddc99",
   "metadata": {},
   "outputs": [
    {
     "data": {
      "text/plain": [
       "tuple"
      ]
     },
     "execution_count": 15,
     "metadata": {},
     "output_type": "execute_result"
    }
   ],
   "source": [
    "type(a)"
   ]
  },
  {
   "cell_type": "code",
   "execution_count": 16,
   "id": "6e7cce91",
   "metadata": {},
   "outputs": [],
   "source": [
    "b={100,20.3,\"ram\",20,\"ram\",\"geeta\",\"pooja\",\"yog\"}"
   ]
  },
  {
   "cell_type": "code",
   "execution_count": 17,
   "id": "10d8172b",
   "metadata": {},
   "outputs": [
    {
     "data": {
      "text/plain": [
       "set"
      ]
     },
     "execution_count": 17,
     "metadata": {},
     "output_type": "execute_result"
    }
   ],
   "source": [
    "type(b)"
   ]
  },
  {
   "cell_type": "code",
   "execution_count": 18,
   "id": "575650a1",
   "metadata": {
    "scrolled": true
   },
   "outputs": [
    {
     "name": "stdout",
     "output_type": "stream",
     "text": [
      "{'geeta', 100, 20, 20.3, 'ram', 'pooja', 'yog'}\n"
     ]
    }
   ],
   "source": [
    "print(b)"
   ]
  },
  {
   "cell_type": "code",
   "execution_count": 19,
   "id": "44654751",
   "metadata": {},
   "outputs": [],
   "source": [
    "c={'ram':28,'geeta':18,'sham':31}"
   ]
  },
  {
   "cell_type": "code",
   "execution_count": 23,
   "id": "2a5d4685",
   "metadata": {},
   "outputs": [],
   "source": [
    "c={'ram':28,'geeta':18,'sham':31,\"pooja\":[]}"
   ]
  },
  {
   "cell_type": "code",
   "execution_count": 20,
   "id": "b25ba4cf",
   "metadata": {},
   "outputs": [
    {
     "data": {
      "text/plain": [
       "dict"
      ]
     },
     "execution_count": 20,
     "metadata": {},
     "output_type": "execute_result"
    }
   ],
   "source": [
    "type(c)"
   ]
  },
  {
   "cell_type": "code",
   "execution_count": 24,
   "id": "b2c210a0",
   "metadata": {},
   "outputs": [
    {
     "name": "stdout",
     "output_type": "stream",
     "text": [
      "{'ram': 28, 'geeta': 18, 'sham': 31, 'pooja': []}\n"
     ]
    }
   ],
   "source": [
    "print(c)"
   ]
  },
  {
   "cell_type": "code",
   "execution_count": 25,
   "id": "3ef53074",
   "metadata": {},
   "outputs": [],
   "source": [
    "x={ }"
   ]
  },
  {
   "cell_type": "code",
   "execution_count": 26,
   "id": "f1f19a78",
   "metadata": {},
   "outputs": [
    {
     "data": {
      "text/plain": [
       "dict"
      ]
     },
     "execution_count": 26,
     "metadata": {},
     "output_type": "execute_result"
    }
   ],
   "source": [
    "type(x)"
   ]
  },
  {
   "cell_type": "markdown",
   "id": "16094543",
   "metadata": {},
   "source": [
    "# Python Operators\n",
    "\n",
    "An operator in a programming language is a symbol that tells the compiler or interpreter to perform specific mathematical, relational or logical operation\n",
    "\n",
    "#following groups:\n",
    "\n",
    "1. Arithmetic operators\n",
    "2. Assignment operators\n",
    "3. Comparison operators\n",
    "4. Logical operators\n",
    "5. Identity operators\n",
    "6. Membership operators\n",
    "7. Bitwise operators"
   ]
  },
  {
   "cell_type": "markdown",
   "id": "93235cca",
   "metadata": {},
   "source": [
    "# 1. Arithmetic operators\n",
    "Arithmetic operators are used with numeric values to perform common mathematical operations:"
   ]
  },
  {
   "cell_type": "markdown",
   "id": "dd946842",
   "metadata": {},
   "source": [
    "Addition + \n",
    "Subtraction - \n",
    "Multiplication *\n",
    "Division /\n",
    "Modulus %\n",
    "Exponentiation **\n",
    "\n",
    "Floor division //  [ the floor division // rounds the result down to the nearest whole number ]"
   ]
  },
  {
   "cell_type": "code",
   "execution_count": 7,
   "id": "bbc5696a",
   "metadata": {},
   "outputs": [],
   "source": [
    "x=15\n",
    "y=2"
   ]
  },
  {
   "cell_type": "code",
   "execution_count": 8,
   "id": "dc947c24",
   "metadata": {},
   "outputs": [
    {
     "data": {
      "text/plain": [
       "7"
      ]
     },
     "execution_count": 8,
     "metadata": {},
     "output_type": "execute_result"
    }
   ],
   "source": [
    "x//y"
   ]
  },
  {
   "cell_type": "markdown",
   "id": "f6474c24",
   "metadata": {},
   "source": [
    "# Python Assignment Operators\n",
    "\n",
    "=    +=    -=   *=    /=     %=   //=   **=  "
   ]
  },
  {
   "cell_type": "code",
   "execution_count": 14,
   "id": "7456f8c4",
   "metadata": {},
   "outputs": [
    {
     "name": "stdout",
     "output_type": "stream",
     "text": [
      "50\n"
     ]
    }
   ],
   "source": [
    "a=30\n",
    "b=20\n",
    "a+=b\n",
    "print(a)"
   ]
  },
  {
   "cell_type": "markdown",
   "id": "1bc45c9d",
   "metadata": {},
   "source": [
    "# Python Comparison Operators\n",
    "\n",
    "==   !=  >   <   >=  <="
   ]
  },
  {
   "cell_type": "code",
   "execution_count": 22,
   "id": "85dc56a0",
   "metadata": {},
   "outputs": [
    {
     "name": "stdout",
     "output_type": "stream",
     "text": [
      "False\n"
     ]
    }
   ],
   "source": [
    "a=30\n",
    "b=30\n",
    "\n",
    "print(a>b)"
   ]
  },
  {
   "cell_type": "markdown",
   "id": "74bb7cdc",
   "metadata": {},
   "source": [
    "# Python Logical Operators\n",
    "\n",
    "and |  or | not"
   ]
  },
  {
   "cell_type": "code",
   "execution_count": 27,
   "id": "8fec4cf6",
   "metadata": {},
   "outputs": [
    {
     "name": "stdout",
     "output_type": "stream",
     "text": [
      "True\n"
     ]
    }
   ],
   "source": [
    "a=20\n",
    "b=5\n",
    "c=4\n",
    "\n",
    "\n",
    "print(not(a<b))"
   ]
  },
  {
   "cell_type": "markdown",
   "id": "1fc54253",
   "metadata": {},
   "source": [
    "# Python Identity Operators\n",
    "\n",
    "used to compare the objects\n",
    "\n",
    "is    |   is not  "
   ]
  },
  {
   "cell_type": "code",
   "execution_count": 31,
   "id": "42c9e38d",
   "metadata": {},
   "outputs": [],
   "source": [
    "x = [\"ram\",\"sham\",\"geeta\"]\n",
    "y = [\"ram\",\"sham\",\"geeta\"]\n",
    "z = x"
   ]
  },
  {
   "cell_type": "code",
   "execution_count": 38,
   "id": "dfd936f1",
   "metadata": {},
   "outputs": [
    {
     "name": "stdout",
     "output_type": "stream",
     "text": [
      "False\n",
      "True\n"
     ]
    }
   ],
   "source": [
    "print(x is not z)\n",
    "print(x == y)"
   ]
  },
  {
   "cell_type": "markdown",
   "id": "50a1611b",
   "metadata": {},
   "source": [
    "# Python Membership Operators\n",
    "\n",
    "used to test if a sequence is presented in an object:\n",
    "\n",
    "in  |  not in"
   ]
  },
  {
   "cell_type": "code",
   "execution_count": 40,
   "id": "c8477be2",
   "metadata": {},
   "outputs": [
    {
     "name": "stdout",
     "output_type": "stream",
     "text": [
      "False\n"
     ]
    }
   ],
   "source": [
    "x = [\"ram\",\"sham\",\"geeta\"]\n",
    "print(\"Ram\" in x)"
   ]
  },
  {
   "cell_type": "markdown",
   "id": "65e540e7",
   "metadata": {},
   "source": [
    "# Python Bitwise Operators\n",
    "\n",
    "Bitwise operators are used to compare (binary) numbers:\n",
    "\n",
    "AND           &  \n",
    "OR            | \n",
    "XOR           ^  \n",
    "NOT           ~ \n",
    "Left shift    <<\n",
    "Right shift   >>\n"
   ]
  },
  {
   "cell_type": "code",
   "execution_count": 50,
   "id": "1a2a459e",
   "metadata": {},
   "outputs": [
    {
     "name": "stdout",
     "output_type": "stream",
     "text": [
      "5\n"
     ]
    }
   ],
   "source": [
    "a=10\n",
    "\n",
    "print(a>>1)"
   ]
  },
  {
   "cell_type": "markdown",
   "id": "9a9ad437",
   "metadata": {},
   "source": [
    "# -------------------------------------Page End-------------------------------------\n",
    "Asterisc.in \n",
    "We will help you bring out the best in you...!! \n",
    "Industrial Training / Internship / College Projects\n",
    "Contact 7744822228 / 7743822228 \n",
    "Branches : Bhande Plot | Tiranga Chowk | Friends Colony"
   ]
  }
 ],
 "metadata": {
  "kernelspec": {
   "display_name": "Python 3 (ipykernel)",
   "language": "python",
   "name": "python3"
  },
  "language_info": {
   "codemirror_mode": {
    "name": "ipython",
    "version": 3
   },
   "file_extension": ".py",
   "mimetype": "text/x-python",
   "name": "python",
   "nbconvert_exporter": "python",
   "pygments_lexer": "ipython3",
   "version": "3.10.3"
  }
 },
 "nbformat": 4,
 "nbformat_minor": 5
}
