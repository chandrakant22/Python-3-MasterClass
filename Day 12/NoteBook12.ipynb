{
 "cells": [
  {
   "cell_type": "markdown",
   "id": "3922983d",
   "metadata": {},
   "source": [
    "# FUNCTION"
   ]
  },
  {
   "cell_type": "markdown",
   "id": "6855ae78",
   "metadata": {},
   "source": [
    "# no return no argument"
   ]
  },
  {
   "cell_type": "code",
   "execution_count": 4,
   "id": "8ae968ee",
   "metadata": {},
   "outputs": [
    {
     "name": "stdout",
     "output_type": "stream",
     "text": [
      "Enter a: 4\n",
      "Enter b: 5\n",
      "Addition= 9\n",
      "Enter a: 7\n",
      "Enter b: 8\n",
      "Addition= 15\n",
      "Enter two values: 7 8\n",
      "First Number:  7\n",
      "Second Number:  8\n",
      "result  15\n"
     ]
    }
   ],
   "source": [
    "def myfun():\n",
    "    a = int(input(\"Enter a: \"))    \n",
    "    b = int(input(\"Enter b: \"))\n",
    "     #a,b = input(\"Enter two values: \").split(\",\")\n",
    "    print(\"Addition=\",a+b)\n",
    "\n",
    "def fun():\n",
    "    x, y = input(\"Enter two values: \").split()#.split()\n",
    "    print(\"First Number: \", x)\n",
    "    print(\"Second Number: \", y)\n",
    "    z=int(x)+int(y)\n",
    "    print(\"result \",z)\n",
    "\n",
    "    \n",
    "myfun()\n",
    "myfun()\n",
    "fun()"
   ]
  },
  {
   "cell_type": "markdown",
   "id": "d40709f1",
   "metadata": {},
   "source": [
    "# return but no argument"
   ]
  },
  {
   "cell_type": "code",
   "execution_count": 6,
   "id": "3e289562",
   "metadata": {},
   "outputs": [
    {
     "name": "stdout",
     "output_type": "stream",
     "text": [
      "Enter a: 12\n",
      "Enter b: 3\n",
      "Subtraction= 9\n"
     ]
    }
   ],
   "source": [
    "def sub(): \n",
    "    a = int(input(\"Enter a: \"))    \n",
    "    b = int(input(\"Enter b: \")) \n",
    "    c = a-b  \n",
    "    return c\n",
    "j=sub()\n",
    "print(\"Subtraction=\",j)"
   ]
  },
  {
   "cell_type": "markdown",
   "id": "9030c54c",
   "metadata": {},
   "source": [
    "# no return but argument\n"
   ]
  },
  {
   "cell_type": "code",
   "execution_count": 7,
   "id": "ee0713b2",
   "metadata": {},
   "outputs": [
    {
     "name": "stdout",
     "output_type": "stream",
     "text": [
      "pooja sao\n",
      "SQUARE= 4\n"
     ]
    }
   ],
   "source": [
    "def my_function(fname, lname):\n",
    "    print(fname + \" \" + lname)\n",
    "\n",
    "def square(a):\n",
    "    print(\"SQUARE=\",a*a)\n",
    "\n",
    "my_function(\"pooja\",\"sao\")\n",
    "square(2)"
   ]
  },
  {
   "cell_type": "markdown",
   "id": "1d45ffd3",
   "metadata": {},
   "source": [
    "# return with argument"
   ]
  },
  {
   "cell_type": "code",
   "execution_count": 25,
   "id": "d513c8e3",
   "metadata": {},
   "outputs": [
    {
     "name": "stdout",
     "output_type": "stream",
     "text": [
      "odd\n",
      "5\n"
     ]
    }
   ],
   "source": [
    "def myFunRetn(a):\n",
    "    if(a%2==0):\n",
    "        print(\"Even number is:\")\n",
    "        return a\n",
    "    else:\n",
    "        print(\"odd\")\n",
    "        return a\n",
    "a=myFunRetn(5)\n",
    "print(a)"
   ]
  },
  {
   "cell_type": "markdown",
   "id": "e985b977",
   "metadata": {},
   "source": [
    "# Arbitrary Arguments, *args  (Non- Keyword Arguments)"
   ]
  },
  {
   "cell_type": "code",
   "execution_count": null,
   "id": "649e8243",
   "metadata": {},
   "outputs": [],
   "source": [
    "# If you do not know how many arguments that will be passed into your function, add a * before the parameter name in the function definition.\n",
    "\n",
    "# function will receive a tuple of arguments, and can access the items accordingly index bases:"
   ]
  },
  {
   "cell_type": "code",
   "execution_count": 9,
   "id": "372c5bd3",
   "metadata": {},
   "outputs": [
    {
     "name": "stdout",
     "output_type": "stream",
     "text": [
      "Mobile number is 7744822228\n",
      "('Asterisc', 'Nagpur', '7744822228')\n",
      "Asterisc\n",
      "Nagpur\n",
      "7744822228\n",
      "Mobile number is 7744822228\n",
      "('Asterisc', 'Nagpur', '7744822228', 101, 102)\n",
      "Asterisc\n",
      "Nagpur\n",
      "7744822228\n",
      "101\n",
      "102\n"
     ]
    }
   ],
   "source": [
    "def my_function(*info):\n",
    "    print(\"Mobile number is \" +info[2])\n",
    "    print(info)\n",
    "    for i in info:\n",
    "        print(i)\n",
    "   \n",
    "\n",
    "my_function('Asterisc', 'Nagpur', '7744822228')\n",
    "my_function('Asterisc', 'Nagpur', '7744822228',101,102)\n"
   ]
  },
  {
   "cell_type": "markdown",
   "id": "205d1cc1",
   "metadata": {},
   "source": [
    "# Arbitrary Keyword Arguments, **keyword args (Keyword Arguments)"
   ]
  },
  {
   "cell_type": "code",
   "execution_count": null,
   "id": "473fbbe9",
   "metadata": {},
   "outputs": [],
   "source": [
    "# If you do not know how many keyword arguments that will be passed into your function, add two ** before the parameter name in the function definition.\n",
    "\n",
    "# Function will receive a dictionary of arguments, and can access the items accordingly:"
   ]
  },
  {
   "cell_type": "code",
   "execution_count": 10,
   "id": "cbc61438",
   "metadata": {},
   "outputs": [
    {
     "name": "stdout",
     "output_type": "stream",
     "text": [
      "Id is  101\n",
      "salary is  3000\n"
     ]
    }
   ],
   "source": [
    "def my_fun(**emp):\n",
    "    print(\"Id is \" ,emp[\"id\"])\n",
    "    print(\"salary is \" ,emp[\"sal\"])\n",
    "\n",
    "\n",
    "my_fun(id = 101, sal = 3000)\n",
    "\n"
   ]
  },
  {
   "cell_type": "code",
   "execution_count": 11,
   "id": "a2c12456",
   "metadata": {},
   "outputs": [
    {
     "ename": "SyntaxError",
     "evalue": "invalid syntax (Temp/ipykernel_2704/241222547.py, line 6)",
     "output_type": "error",
     "traceback": [
      "\u001b[1;36m  File \u001b[1;32m\"C:\\Users\\ast4\\AppData\\Local\\Temp/ipykernel_2704/241222547.py\"\u001b[1;36m, line \u001b[1;32m6\u001b[0m\n\u001b[1;33m    myFun(id :'102', name :'geeta', sal:'3000')\u001b[0m\n\u001b[1;37m             ^\u001b[0m\n\u001b[1;31mSyntaxError\u001b[0m\u001b[1;31m:\u001b[0m invalid syntax\n"
     ]
    }
   ],
   "source": [
    "def myFun(**emp):\n",
    "    for key, value in emp.items():\n",
    "        print (\"%s : %s\" %(key, value))\n",
    " \n",
    "\n",
    "myFun(id ='102', name ='geeta', sal='3000')   "
   ]
  },
  {
   "cell_type": "code",
   "execution_count": 13,
   "id": "9ab811fc",
   "metadata": {},
   "outputs": [
    {
     "name": "stdout",
     "output_type": "stream",
     "text": [
      "Value of a is= helloworld\n",
      "Value of a is: = hello\n"
     ]
    }
   ],
   "source": [
    "def myfun(a):\n",
    "    a+=\"world\"\n",
    "    print(\"Value of a is=\",a)\n",
    "\n",
    "a=\"hello\"\n",
    "myfun(a)\n",
    "print(\"Value of a is: =\",a)"
   ]
  },
  {
   "cell_type": "code",
   "execution_count": null,
   "id": "dd87e567",
   "metadata": {},
   "outputs": [],
   "source": []
  }
 ],
 "metadata": {
  "kernelspec": {
   "display_name": "Python 3 (ipykernel)",
   "language": "python",
   "name": "python3"
  },
  "language_info": {
   "codemirror_mode": {
    "name": "ipython",
    "version": 3
   },
   "file_extension": ".py",
   "mimetype": "text/x-python",
   "name": "python",
   "nbconvert_exporter": "python",
   "pygments_lexer": "ipython3",
   "version": "3.10.3"
  }
 },
 "nbformat": 4,
 "nbformat_minor": 5
}
