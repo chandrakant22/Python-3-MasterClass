{
 "cells": [
  {
   "cell_type": "markdown",
   "id": "2d6c7169",
   "metadata": {},
   "source": [
    "# Python Condition statements"
   ]
  },
  {
   "cell_type": "markdown",
   "id": "8427b0c7",
   "metadata": {},
   "source": [
    "# Python If ... Else"
   ]
  },
  {
   "cell_type": "markdown",
   "id": "19dace06",
   "metadata": {},
   "source": [
    "Python Conditions and If statements"
   ]
  },
  {
   "cell_type": "code",
   "execution_count": 3,
   "id": "e0b12746",
   "metadata": {},
   "outputs": [
    {
     "ename": "IndentationError",
     "evalue": "unexpected indent (3939460655.py, line 9)",
     "output_type": "error",
     "traceback": [
      "\u001b[1;36m  Input \u001b[1;32mIn [3]\u001b[1;36m\u001b[0m\n\u001b[1;33m    print(\"hi\")\u001b[0m\n\u001b[1;37m    ^\u001b[0m\n\u001b[1;31mIndentationError\u001b[0m\u001b[1;31m:\u001b[0m unexpected indent\n"
     ]
    }
   ],
   "source": [
    "age =int(input(\"Enter your age\"))\n",
    "\n",
    "if age>18 :\n",
    "    print(\"hello\")\n",
    "    print(\"hey\")\n",
    "\n",
    "if age<18:\n",
    "    print(\"bye\")\n",
    "    print(\"hi\")    \n",
    "\n",
    "print(\"hi2\") \n",
    "\n",
    "#10"
   ]
  },
  {
   "cell_type": "markdown",
   "id": "bea509c4",
   "metadata": {},
   "source": [
    "# if"
   ]
  },
  {
   "cell_type": "code",
   "execution_count": null,
   "id": "21d3d00c",
   "metadata": {},
   "outputs": [],
   "source": []
  },
  {
   "cell_type": "markdown",
   "id": "b87357a1",
   "metadata": {},
   "source": [
    "# else"
   ]
  },
  {
   "cell_type": "code",
   "execution_count": 1,
   "id": "af778f94",
   "metadata": {},
   "outputs": [
    {
     "name": "stdout",
     "output_type": "stream",
     "text": [
      "Enter your age29\n",
      "valid\n",
      "hi\n"
     ]
    }
   ],
   "source": [
    "age =int(input(\"Enter your age\"))\n",
    "if age>18:\n",
    "    print(\"valid\")\n",
    "    print(\"hi\")\n",
    "else:\n",
    "    print(\"not valid\")\n",
    "    \n",
    "#29\n",
    "#18\n",
    "#10"
   ]
  },
  {
   "cell_type": "markdown",
   "id": "70086dd2",
   "metadata": {},
   "source": [
    "# elif"
   ]
  },
  {
   "cell_type": "code",
   "execution_count": 6,
   "id": "f76290f2",
   "metadata": {},
   "outputs": [
    {
     "name": "stdout",
     "output_type": "stream",
     "text": [
      "Enter your f no1\n",
      "x1st floor\n"
     ]
    }
   ],
   "source": [
    "f=int(input(\"Enter your f no\")) #3\n",
    "\n",
    "if f==1:\n",
    "    print(\"x1st floor\")\n",
    "    print(\"y1st floor\")\n",
    "elif f==2:\n",
    "    print(\"2st floor\")\n",
    "elif f==3:\n",
    "    print(\"3st floor\")\n",
    "elif f==4:\n",
    "    print(\"4st floor\")\n",
    "else:\n",
    "    print(\"badiya aapn he rakh lete hai\")"
   ]
  },
  {
   "cell_type": "markdown",
   "id": "c774b1a4",
   "metadata": {},
   "source": [
    "# Short Hand If"
   ]
  },
  {
   "cell_type": "code",
   "execution_count": 7,
   "id": "a7b31d8b",
   "metadata": {},
   "outputs": [
    {
     "name": "stdout",
     "output_type": "stream",
     "text": [
      "Enter your age29\n",
      "valid\n"
     ]
    }
   ],
   "source": [
    "age =int(input(\"Enter your age\"))\n",
    "if age>18: print(\"valid\")"
   ]
  },
  {
   "cell_type": "markdown",
   "id": "f37d78c6",
   "metadata": {},
   "source": [
    "# Short Hand If ... Else"
   ]
  },
  {
   "cell_type": "code",
   "execution_count": 10,
   "id": "330f57fc",
   "metadata": {},
   "outputs": [
    {
     "name": "stdout",
     "output_type": "stream",
     "text": [
      "Enter your age10\n",
      "not valid\n"
     ]
    }
   ],
   "source": [
    "age =int(input(\"Enter your age\"))\n",
    "\n",
    "\n",
    "print(\"valid\") if age>18 else print(\"not valid\")\n"
   ]
  },
  {
   "cell_type": "markdown",
   "id": "3734b08d",
   "metadata": {},
   "source": [
    "# logical operator  ->   and , or "
   ]
  },
  {
   "cell_type": "code",
   "execution_count": 14,
   "id": "f257632a",
   "metadata": {},
   "outputs": [
    {
     "name": "stdout",
     "output_type": "stream",
     "text": [
      "Enter your age35\n",
      "not valid\n"
     ]
    }
   ],
   "source": [
    "age =int(input(\"Enter your age\"))\n",
    "\n",
    "if age >18 and age<30:\n",
    "    print(\"valid\")\n",
    "else:\n",
    "    print(\"not valid\")"
   ]
  },
  {
   "cell_type": "markdown",
   "id": "40d670b1",
   "metadata": {},
   "source": [
    "# Nested If"
   ]
  },
  {
   "cell_type": "code",
   "execution_count": 18,
   "id": "8ce3da53",
   "metadata": {},
   "outputs": [
    {
     "name": "stdout",
     "output_type": "stream",
     "text": [
      "Enter number 120\n",
      "Enter number 220\n",
      "Enter number 310\n",
      "B is bigger number\n"
     ]
    }
   ],
   "source": [
    "a =int(input(\"Enter number 1\"))\n",
    "b =int(input(\"Enter number 2\"))\n",
    "c =int(input(\"Enter number 3\"))\n",
    "\n",
    "if a>b :\n",
    "    if a>c:\n",
    "        print(\"A is bigger number\")\n",
    "    else:\n",
    "        print(\"C is bigger number\")\n",
    "else:\n",
    "    if b>c:\n",
    "        print(\"B is bigger number\")\n",
    "    else:\n",
    "        print(\"C is bigger number\")\n"
   ]
  },
  {
   "cell_type": "markdown",
   "id": "5e04f2cd",
   "metadata": {},
   "source": [
    "# -------------------------------------Page End-------------------------------------\n",
    "Asterisc.in \n",
    "We will help you bring out the best in you...!! \n",
    "Industrial Training / Internship / College Projects\n",
    "Contact 7744822228 / 7743822228 \n",
    "Branches : Bhande Plot | Tiranga Chowk | Friends Colony"
   ]
  },
  {
   "cell_type": "code",
   "execution_count": null,
   "id": "eb1d13fa",
   "metadata": {},
   "outputs": [],
   "source": []
  }
 ],
 "metadata": {
  "kernelspec": {
   "display_name": "Python 3 (ipykernel)",
   "language": "python",
   "name": "python3"
  },
  "language_info": {
   "codemirror_mode": {
    "name": "ipython",
    "version": 3
   },
   "file_extension": ".py",
   "mimetype": "text/x-python",
   "name": "python",
   "nbconvert_exporter": "python",
   "pygments_lexer": "ipython3",
   "version": "3.10.3"
  }
 },
 "nbformat": 4,
 "nbformat_minor": 5
}
