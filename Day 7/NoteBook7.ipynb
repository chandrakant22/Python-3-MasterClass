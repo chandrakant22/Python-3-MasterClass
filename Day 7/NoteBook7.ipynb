{
 "cells": [
  {
   "cell_type": "markdown",
   "id": "6643940e",
   "metadata": {},
   "source": [
    "# Python Set\n",
    "\n",
    "Set are used to store multiple items in a single variable.\n",
    "\n",
    "1> Unordered (Sets are unordered, so you cannot be sure in which order the items will appear)\n",
    "2> immutable / Unchangeable (Once a set is created, you cannot change its items, but you can remove items and add new items)\n",
    "3> {} or set()\n",
    "4> Not Allow Duplicate\n",
    "5> unindexed"
   ]
  },
  {
   "cell_type": "code",
   "execution_count": null,
   "id": "cc066907",
   "metadata": {},
   "outputs": [],
   "source": []
  },
  {
   "cell_type": "code",
   "execution_count": null,
   "id": "9fd737da",
   "metadata": {},
   "outputs": [],
   "source": [
    "# Check\n",
    "\n",
    "Check if Item Exists --> in"
   ]
  },
  {
   "cell_type": "code",
   "execution_count": null,
   "id": "754970f5",
   "metadata": {},
   "outputs": [],
   "source": []
  },
  {
   "cell_type": "code",
   "execution_count": null,
   "id": "faa60bc9",
   "metadata": {},
   "outputs": [],
   "source": [
    "add()         #Adds an element to the set"
   ]
  },
  {
   "cell_type": "code",
   "execution_count": null,
   "id": "3be09deb",
   "metadata": {},
   "outputs": [],
   "source": []
  },
  {
   "cell_type": "code",
   "execution_count": null,
   "id": "b42f10da",
   "metadata": {},
   "outputs": [],
   "source": [
    "clear()      #Removes all the elements from the set"
   ]
  },
  {
   "cell_type": "code",
   "execution_count": null,
   "id": "ad30c9b6",
   "metadata": {},
   "outputs": [],
   "source": []
  },
  {
   "cell_type": "code",
   "execution_count": null,
   "id": "5e955ac9",
   "metadata": {},
   "outputs": [],
   "source": [
    "copy()       #Returns a copy of the set"
   ]
  },
  {
   "cell_type": "code",
   "execution_count": null,
   "id": "6555a555",
   "metadata": {},
   "outputs": [],
   "source": []
  },
  {
   "cell_type": "code",
   "execution_count": null,
   "id": "c2e7e8f0",
   "metadata": {},
   "outputs": [],
   "source": [
    "set.discard(value)           # Remove the specified item"
   ]
  },
  {
   "cell_type": "code",
   "execution_count": null,
   "id": "bdd06b22",
   "metadata": {},
   "outputs": [],
   "source": []
  },
  {
   "cell_type": "code",
   "execution_count": null,
   "id": "55090684",
   "metadata": {},
   "outputs": [],
   "source": [
    "set.remove(item)             #Remove \"item\" from the set: error if not present"
   ]
  },
  {
   "cell_type": "code",
   "execution_count": null,
   "id": "8e76f56e",
   "metadata": {},
   "outputs": [],
   "source": []
  },
  {
   "cell_type": "code",
   "execution_count": null,
   "id": "2eee1e98",
   "metadata": {},
   "outputs": [],
   "source": [
    "set.pop()                    # Remove a random item from the set and also return that item"
   ]
  },
  {
   "cell_type": "code",
   "execution_count": null,
   "id": "33c5b85a",
   "metadata": {},
   "outputs": [],
   "source": []
  },
  {
   "cell_type": "code",
   "execution_count": null,
   "id": "1fda6010",
   "metadata": {},
   "outputs": [],
   "source": [
    "set.difference(set,set,nset..) #Returns a set containing the difference between two or more sets"
   ]
  },
  {
   "cell_type": "code",
   "execution_count": null,
   "id": "34b7540f",
   "metadata": {},
   "outputs": [],
   "source": []
  },
  {
   "cell_type": "code",
   "execution_count": null,
   "id": "6137ead9",
   "metadata": {},
   "outputs": [],
   "source": [
    "set.difference_update(set) # Removes the items in this set that are also included in another, specified set"
   ]
  },
  {
   "cell_type": "code",
   "execution_count": null,
   "id": "e4b5ccf7",
   "metadata": {},
   "outputs": [],
   "source": []
  },
  {
   "cell_type": "code",
   "execution_count": null,
   "id": "bb9a061f",
   "metadata": {},
   "outputs": [],
   "source": [
    "set.intersection(set1, set2 ... etc) # Return a set that contains the items that exist in both set x, and set y:"
   ]
  },
  {
   "cell_type": "code",
   "execution_count": null,
   "id": "5c5cc073",
   "metadata": {},
   "outputs": [],
   "source": []
  },
  {
   "cell_type": "code",
   "execution_count": null,
   "id": "fc65e1f4",
   "metadata": {},
   "outputs": [],
   "source": [
    "set.intersection_update(set1, set2 ... etc) # Remove the items that is not present in both x and y:"
   ]
  },
  {
   "cell_type": "code",
   "execution_count": null,
   "id": "808aafbf",
   "metadata": {},
   "outputs": [],
   "source": []
  },
  {
   "cell_type": "code",
   "execution_count": null,
   "id": "2317b150",
   "metadata": {},
   "outputs": [],
   "source": [
    "set.isdisjoint(set)  # Return True if no items in set x is present in set y:"
   ]
  },
  {
   "cell_type": "code",
   "execution_count": null,
   "id": "702b8a80",
   "metadata": {},
   "outputs": [],
   "source": []
  },
  {
   "cell_type": "code",
   "execution_count": null,
   "id": "cd366807",
   "metadata": {},
   "outputs": [],
   "source": [
    "set.issubset(set)    # Return True if all items in set x are present in set y:"
   ]
  },
  {
   "cell_type": "code",
   "execution_count": null,
   "id": "44d81bf6",
   "metadata": {},
   "outputs": [],
   "source": []
  },
  {
   "cell_type": "code",
   "execution_count": null,
   "id": "0e68dbee",
   "metadata": {},
   "outputs": [],
   "source": [
    "set.issuperset(set)  # Return True if all items set y are present in set x:"
   ]
  },
  {
   "cell_type": "code",
   "execution_count": null,
   "id": "4f781d75",
   "metadata": {},
   "outputs": [],
   "source": []
  },
  {
   "cell_type": "code",
   "execution_count": null,
   "id": "44c4e99f",
   "metadata": {},
   "outputs": [],
   "source": [
    "set.symmetric_difference(set)\n",
    "# Return a set that contains all items from both sets, except items that are present in both sets:"
   ]
  },
  {
   "cell_type": "code",
   "execution_count": null,
   "id": "46878b74",
   "metadata": {},
   "outputs": [],
   "source": []
  },
  {
   "cell_type": "code",
   "execution_count": null,
   "id": "ff1e09da",
   "metadata": {},
   "outputs": [],
   "source": [
    "set.symmetric_difference_update(set)\n",
    "# Remove the items that are present in both sets, AND insert the items that is not present in both sets:"
   ]
  },
  {
   "cell_type": "code",
   "execution_count": null,
   "id": "184e30fc",
   "metadata": {},
   "outputs": [],
   "source": []
  },
  {
   "cell_type": "code",
   "execution_count": null,
   "id": "37bfcea8",
   "metadata": {},
   "outputs": [],
   "source": [
    "set.union(set1, set2...)\n",
    "# Return a set that contains all items from both sets, duplicates are excluded:"
   ]
  },
  {
   "cell_type": "code",
   "execution_count": null,
   "id": "ecee7b18",
   "metadata": {},
   "outputs": [],
   "source": []
  },
  {
   "cell_type": "code",
   "execution_count": null,
   "id": "b7f358a4",
   "metadata": {},
   "outputs": [],
   "source": [
    "set.update(set)\n",
    "# Insert the items from set y into set x:"
   ]
  },
  {
   "cell_type": "code",
   "execution_count": null,
   "id": "20cde9c0",
   "metadata": {},
   "outputs": [],
   "source": []
  },
  {
   "cell_type": "markdown",
   "id": "d0a99c12",
   "metadata": {},
   "source": [
    "# -------------------------------------Page End-------------------------------------\n",
    "Asterisc.in \n",
    "We will help you bring out the best in you...!! \n",
    "Industrial Training / Internship / College Projects\n",
    "Contact 7744822228 / 7743822228 \n",
    "Branches : Bhande Plot | Tiranga Chowk | Friends Colony"
   ]
  }
 ],
 "metadata": {
  "kernelspec": {
   "display_name": "Python 3 (ipykernel)",
   "language": "python",
   "name": "python3"
  },
  "language_info": {
   "codemirror_mode": {
    "name": "ipython",
    "version": 3
   },
   "file_extension": ".py",
   "mimetype": "text/x-python",
   "name": "python",
   "nbconvert_exporter": "python",
   "pygments_lexer": "ipython3",
   "version": "3.9.7"
  }
 },
 "nbformat": 4,
 "nbformat_minor": 5
}
