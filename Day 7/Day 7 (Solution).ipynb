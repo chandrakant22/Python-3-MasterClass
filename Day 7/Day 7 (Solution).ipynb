{
 "cells": [
  {
   "cell_type": "markdown",
   "id": "6643940e",
   "metadata": {},
   "source": [
    "# Python Set\n",
    "\n",
    "Set are used to store multiple items in a single variable.\n",
    "\n",
    "1> Unordered (Sets are unordered, so you cannot be sure in which order the items will appear)\n",
    "2> immutable / Unchangeable (Once a set is created, you cannot change its items, but you can remove items and add new items)\n",
    "3> {} or set()\n",
    "4> Not Allow Duplicate\n",
    "5> unindexed"
   ]
  },
  {
   "cell_type": "code",
   "execution_count": 4,
   "id": "cc066907",
   "metadata": {},
   "outputs": [
    {
     "data": {
      "text/plain": [
       "{'geeta', 'pooja', 'ram', 'sham'}"
      ]
     },
     "execution_count": 4,
     "metadata": {},
     "output_type": "execute_result"
    }
   ],
   "source": [
    "x={\"ram\",\"sham\",\"geeta\",\"pooja\",\"ram\"}\n",
    "\n",
    "x"
   ]
  },
  {
   "cell_type": "code",
   "execution_count": null,
   "id": "9fd737da",
   "metadata": {},
   "outputs": [],
   "source": [
    "# Check\n",
    "\n",
    "Check if Item Exists --> in"
   ]
  },
  {
   "cell_type": "code",
   "execution_count": 5,
   "id": "754970f5",
   "metadata": {},
   "outputs": [
    {
     "name": "stdout",
     "output_type": "stream",
     "text": [
      "True\n"
     ]
    }
   ],
   "source": [
    "print(\"pooja\" in x)"
   ]
  },
  {
   "cell_type": "code",
   "execution_count": null,
   "id": "faa60bc9",
   "metadata": {},
   "outputs": [],
   "source": [
    "add()         #Adds an element to the set"
   ]
  },
  {
   "cell_type": "code",
   "execution_count": 6,
   "id": "3be09deb",
   "metadata": {},
   "outputs": [],
   "source": [
    "x.add(\"om\")"
   ]
  },
  {
   "cell_type": "code",
   "execution_count": null,
   "id": "85a971c7",
   "metadata": {},
   "outputs": [],
   "source": []
  },
  {
   "cell_type": "code",
   "execution_count": null,
   "id": "b42f10da",
   "metadata": {},
   "outputs": [],
   "source": [
    "clear()      #Removes all the elements from the set"
   ]
  },
  {
   "cell_type": "code",
   "execution_count": null,
   "id": "ad30c9b6",
   "metadata": {},
   "outputs": [],
   "source": []
  },
  {
   "cell_type": "code",
   "execution_count": null,
   "id": "5e955ac9",
   "metadata": {},
   "outputs": [],
   "source": [
    "copy()       #Returns a copy of the set"
   ]
  },
  {
   "cell_type": "code",
   "execution_count": null,
   "id": "6555a555",
   "metadata": {},
   "outputs": [],
   "source": []
  },
  {
   "cell_type": "code",
   "execution_count": null,
   "id": "c2e7e8f0",
   "metadata": {},
   "outputs": [],
   "source": [
    "set.discard(value)           # Remove the specified item"
   ]
  },
  {
   "cell_type": "code",
   "execution_count": 9,
   "id": "bdd06b22",
   "metadata": {},
   "outputs": [],
   "source": [
    "x={\"ram\",\"sham\",\"geeta\",\"pooja\",\"om\"}"
   ]
  },
  {
   "cell_type": "code",
   "execution_count": 21,
   "id": "ab869e76",
   "metadata": {},
   "outputs": [],
   "source": [
    "x.discard(\"om\")"
   ]
  },
  {
   "cell_type": "code",
   "execution_count": 22,
   "id": "41ad30ed",
   "metadata": {},
   "outputs": [
    {
     "data": {
      "text/plain": [
       "{'geeta', 'pooja'}"
      ]
     },
     "execution_count": 22,
     "metadata": {},
     "output_type": "execute_result"
    }
   ],
   "source": [
    "x"
   ]
  },
  {
   "cell_type": "code",
   "execution_count": 23,
   "id": "55090684",
   "metadata": {},
   "outputs": [
    {
     "ename": "NameError",
     "evalue": "name 'item' is not defined",
     "output_type": "error",
     "traceback": [
      "\u001b[1;31m---------------------------------------------------------------------------\u001b[0m",
      "\u001b[1;31mNameError\u001b[0m                                 Traceback (most recent call last)",
      "Input \u001b[1;32mIn [23]\u001b[0m, in \u001b[0;36m<cell line: 1>\u001b[1;34m()\u001b[0m\n\u001b[1;32m----> 1\u001b[0m \u001b[38;5;28mset\u001b[39m\u001b[38;5;241m.\u001b[39mremove(\u001b[43mitem\u001b[49m)\n",
      "\u001b[1;31mNameError\u001b[0m: name 'item' is not defined"
     ]
    }
   ],
   "source": [
    "set.remove(item)             #Remove \"item\" from the set: error if not present"
   ]
  },
  {
   "cell_type": "code",
   "execution_count": 24,
   "id": "8e76f56e",
   "metadata": {},
   "outputs": [
    {
     "ename": "KeyError",
     "evalue": "'ram'",
     "output_type": "error",
     "traceback": [
      "\u001b[1;31m---------------------------------------------------------------------------\u001b[0m",
      "\u001b[1;31mKeyError\u001b[0m                                  Traceback (most recent call last)",
      "Input \u001b[1;32mIn [24]\u001b[0m, in \u001b[0;36m<cell line: 1>\u001b[1;34m()\u001b[0m\n\u001b[1;32m----> 1\u001b[0m \u001b[43mx\u001b[49m\u001b[38;5;241;43m.\u001b[39;49m\u001b[43mremove\u001b[49m\u001b[43m(\u001b[49m\u001b[38;5;124;43m\"\u001b[39;49m\u001b[38;5;124;43mram\u001b[39;49m\u001b[38;5;124;43m\"\u001b[39;49m\u001b[43m)\u001b[49m\n",
      "\u001b[1;31mKeyError\u001b[0m: 'ram'"
     ]
    }
   ],
   "source": [
    "x.remove(\"ram\")"
   ]
  },
  {
   "cell_type": "code",
   "execution_count": 13,
   "id": "89c30278",
   "metadata": {},
   "outputs": [
    {
     "data": {
      "text/plain": [
       "{'geeta', 'pooja', 'sham'}"
      ]
     },
     "execution_count": 13,
     "metadata": {},
     "output_type": "execute_result"
    }
   ],
   "source": [
    "x"
   ]
  },
  {
   "cell_type": "code",
   "execution_count": null,
   "id": "2eee1e98",
   "metadata": {},
   "outputs": [],
   "source": [
    "set.pop()                    # Remove a random item from the set and also return that item"
   ]
  },
  {
   "cell_type": "code",
   "execution_count": 14,
   "id": "33c5b85a",
   "metadata": {},
   "outputs": [
    {
     "data": {
      "text/plain": [
       "'sham'"
      ]
     },
     "execution_count": 14,
     "metadata": {},
     "output_type": "execute_result"
    }
   ],
   "source": [
    "x.pop()"
   ]
  },
  {
   "cell_type": "code",
   "execution_count": 15,
   "id": "33c31012",
   "metadata": {},
   "outputs": [
    {
     "data": {
      "text/plain": [
       "{'geeta', 'pooja'}"
      ]
     },
     "execution_count": 15,
     "metadata": {},
     "output_type": "execute_result"
    }
   ],
   "source": [
    "x"
   ]
  },
  {
   "cell_type": "code",
   "execution_count": null,
   "id": "1fda6010",
   "metadata": {},
   "outputs": [],
   "source": [
    "set.difference(set,set,nset..) #Returns a set containing the difference between two or more sets"
   ]
  },
  {
   "cell_type": "code",
   "execution_count": 25,
   "id": "34b7540f",
   "metadata": {},
   "outputs": [
    {
     "data": {
      "text/plain": [
       "{'geeta', 'om', 'pooja', 'sham'}"
      ]
     },
     "execution_count": 25,
     "metadata": {},
     "output_type": "execute_result"
    }
   ],
   "source": [
    "x={\"ram\",\"sham\",\"geeta\",\"pooja\",\"om\"}\n",
    "y={\"c\",\"c++\",\"java\",\"python\",\"ram\"}\n",
    "\n",
    "z=x.difference(y)"
   ]
  },
  {
   "cell_type": "code",
   "execution_count": 26,
   "id": "c33a648a",
   "metadata": {},
   "outputs": [
    {
     "data": {
      "text/plain": [
       "{'geeta', 'om', 'pooja', 'ram', 'sham'}"
      ]
     },
     "execution_count": 26,
     "metadata": {},
     "output_type": "execute_result"
    }
   ],
   "source": [
    "x"
   ]
  },
  {
   "cell_type": "code",
   "execution_count": null,
   "id": "6137ead9",
   "metadata": {},
   "outputs": [],
   "source": [
    "set.difference_update(set) # Removes the items in this set that are also included in another, specified set"
   ]
  },
  {
   "cell_type": "code",
   "execution_count": 27,
   "id": "e4b5ccf7",
   "metadata": {},
   "outputs": [],
   "source": [
    "x={\"ram\",\"sham\",\"geeta\",\"pooja\",\"om\"}\n",
    "y={\"c\",\"c++\",\"java\",\"python\",\"ram\"}\n",
    "\n",
    "x.difference_update(y)"
   ]
  },
  {
   "cell_type": "code",
   "execution_count": 28,
   "id": "ad6fe19d",
   "metadata": {},
   "outputs": [
    {
     "data": {
      "text/plain": [
       "{'geeta', 'om', 'pooja', 'sham'}"
      ]
     },
     "execution_count": 28,
     "metadata": {},
     "output_type": "execute_result"
    }
   ],
   "source": [
    "x"
   ]
  },
  {
   "cell_type": "code",
   "execution_count": null,
   "id": "bb9a061f",
   "metadata": {},
   "outputs": [],
   "source": [
    "set.intersection(set1, set2 ... etc) \n",
    "# Return a set that contains the items that exist in both set x, and set y:"
   ]
  },
  {
   "cell_type": "code",
   "execution_count": 29,
   "id": "5c5cc073",
   "metadata": {},
   "outputs": [],
   "source": [
    "x={\"ram\",\"sham\",\"geeta\",\"pooja\",\"om\"}\n",
    "y={\"c\",\"c++\",\"java\",\"python\",\"ram\"}\n",
    "\n",
    "z=x.intersection(y)"
   ]
  },
  {
   "cell_type": "code",
   "execution_count": 30,
   "id": "7a622732",
   "metadata": {},
   "outputs": [
    {
     "data": {
      "text/plain": [
       "{'ram'}"
      ]
     },
     "execution_count": 30,
     "metadata": {},
     "output_type": "execute_result"
    }
   ],
   "source": [
    "z"
   ]
  },
  {
   "cell_type": "code",
   "execution_count": 31,
   "id": "d1cb75bb",
   "metadata": {},
   "outputs": [
    {
     "data": {
      "text/plain": [
       "{'geeta', 'om', 'pooja', 'ram', 'sham'}"
      ]
     },
     "execution_count": 31,
     "metadata": {},
     "output_type": "execute_result"
    }
   ],
   "source": [
    "x"
   ]
  },
  {
   "cell_type": "code",
   "execution_count": null,
   "id": "fc65e1f4",
   "metadata": {},
   "outputs": [],
   "source": [
    "set.intersection_update(set1, set2 ... etc) # Remove the items that is not present in both x and y:"
   ]
  },
  {
   "cell_type": "code",
   "execution_count": 32,
   "id": "808aafbf",
   "metadata": {},
   "outputs": [],
   "source": [
    "x={\"ram\",\"sham\",\"geeta\",\"pooja\",\"om\"}\n",
    "y={\"c\",\"c++\",\"java\",\"python\",\"ram\"}\n",
    "\n",
    "x.intersection_update(y)"
   ]
  },
  {
   "cell_type": "code",
   "execution_count": 33,
   "id": "7a43d720",
   "metadata": {},
   "outputs": [
    {
     "data": {
      "text/plain": [
       "{'ram'}"
      ]
     },
     "execution_count": 33,
     "metadata": {},
     "output_type": "execute_result"
    }
   ],
   "source": [
    "x"
   ]
  },
  {
   "cell_type": "code",
   "execution_count": null,
   "id": "2317b150",
   "metadata": {},
   "outputs": [],
   "source": [
    "set.isdisjoint(set)  # Return True if no items in set x is present in set y:"
   ]
  },
  {
   "cell_type": "code",
   "execution_count": 35,
   "id": "702b8a80",
   "metadata": {},
   "outputs": [
    {
     "data": {
      "text/plain": [
       "True"
      ]
     },
     "execution_count": 35,
     "metadata": {},
     "output_type": "execute_result"
    }
   ],
   "source": [
    "x={\"ram\",\"sham\",\"geeta\",\"pooja\",\"om\"}\n",
    "y={\"c\",\"c++\",\"java\",\"python\"}\n",
    "\n",
    "z=x.isdisjoint(y)\n",
    "\n",
    "z"
   ]
  },
  {
   "cell_type": "code",
   "execution_count": null,
   "id": "cd366807",
   "metadata": {},
   "outputs": [],
   "source": [
    "set.issubset(set)    # Return True if all items in set x are present in set y:"
   ]
  },
  {
   "cell_type": "code",
   "execution_count": 37,
   "id": "44d81bf6",
   "metadata": {},
   "outputs": [
    {
     "data": {
      "text/plain": [
       "False"
      ]
     },
     "execution_count": 37,
     "metadata": {},
     "output_type": "execute_result"
    }
   ],
   "source": [
    "x={\"ram\",\"sham\",\"geeta\",\"pooja\",\"om\"}\n",
    "y={\"c\",\"c++\",\"java\",\"python\",\"ram\",\"sham\",\"geeta\",\"om\"}\n",
    "\n",
    "z=x.issubset(y)\n",
    "\n",
    "z"
   ]
  },
  {
   "cell_type": "code",
   "execution_count": null,
   "id": "0e68dbee",
   "metadata": {},
   "outputs": [],
   "source": [
    "set.issuperset(set)  # Return True if all items set y are present in set x:"
   ]
  },
  {
   "cell_type": "code",
   "execution_count": 38,
   "id": "4f781d75",
   "metadata": {},
   "outputs": [
    {
     "data": {
      "text/plain": [
       "True"
      ]
     },
     "execution_count": 38,
     "metadata": {},
     "output_type": "execute_result"
    }
   ],
   "source": [
    "x={\"ram\",\"sham\",\"geeta\",\"pooja\",\"om\",\"c\",\"c++\",\"java\",\"python\"}\n",
    "y={\"c\",\"c++\",\"java\",\"python\"}\n",
    "x.issuperset(y)"
   ]
  },
  {
   "cell_type": "code",
   "execution_count": null,
   "id": "44c4e99f",
   "metadata": {},
   "outputs": [],
   "source": [
    "set.symmetric_difference(set)\n",
    "# Return a set that contains all items from both sets, except items that are present in both sets:"
   ]
  },
  {
   "cell_type": "code",
   "execution_count": 39,
   "id": "46878b74",
   "metadata": {},
   "outputs": [
    {
     "data": {
      "text/plain": [
       "{'c', 'c++', 'geeta', 'java', 'om', 'pooja', 'python'}"
      ]
     },
     "execution_count": 39,
     "metadata": {},
     "output_type": "execute_result"
    }
   ],
   "source": [
    "x={\"ram\",\"sham\",\"geeta\",\"pooja\",\"om\"}\n",
    "y={\"c\",\"c++\",\"java\",\"python\",\"ram\",\"sham\"}\n",
    "\n",
    "z=x.symmetric_difference(y)\n",
    "\n",
    "z"
   ]
  },
  {
   "cell_type": "code",
   "execution_count": 40,
   "id": "9e36daba",
   "metadata": {},
   "outputs": [
    {
     "data": {
      "text/plain": [
       "{'geeta', 'om', 'pooja', 'ram', 'sham'}"
      ]
     },
     "execution_count": 40,
     "metadata": {},
     "output_type": "execute_result"
    }
   ],
   "source": [
    "x"
   ]
  },
  {
   "cell_type": "code",
   "execution_count": null,
   "id": "ff1e09da",
   "metadata": {},
   "outputs": [],
   "source": [
    "set.symmetric_difference_update(set)\n",
    "# Remove the items that are present in both sets, AND insert the items that is not present in both sets:"
   ]
  },
  {
   "cell_type": "code",
   "execution_count": null,
   "id": "184e30fc",
   "metadata": {},
   "outputs": [],
   "source": []
  },
  {
   "cell_type": "code",
   "execution_count": null,
   "id": "37bfcea8",
   "metadata": {},
   "outputs": [],
   "source": [
    "set.union(set1, set2...)\n",
    "# Return a set that contains all items from both sets, duplicates are excluded:"
   ]
  },
  {
   "cell_type": "code",
   "execution_count": 41,
   "id": "ecee7b18",
   "metadata": {},
   "outputs": [
    {
     "data": {
      "text/plain": [
       "{'c', 'c++', 'geeta', 'java', 'om', 'pooja', 'python', 'ram', 'sham'}"
      ]
     },
     "execution_count": 41,
     "metadata": {},
     "output_type": "execute_result"
    }
   ],
   "source": [
    "x={\"ram\",\"sham\",\"geeta\",\"pooja\",\"om\"}\n",
    "y={\"c\",\"c++\",\"java\",\"python\",\"ram\",\"sham\"}\n",
    "\n",
    "z=x.union(y)\n",
    "\n",
    "z"
   ]
  },
  {
   "cell_type": "code",
   "execution_count": null,
   "id": "b7f358a4",
   "metadata": {},
   "outputs": [],
   "source": [
    "set.update(set)\n",
    "# Insert the items from set y into set x:"
   ]
  },
  {
   "cell_type": "code",
   "execution_count": 42,
   "id": "20cde9c0",
   "metadata": {},
   "outputs": [
    {
     "data": {
      "text/plain": [
       "{'c', 'c++', 'geeta', 'java', 'om', 'pooja', 'python', 'ram', 'sham'}"
      ]
     },
     "execution_count": 42,
     "metadata": {},
     "output_type": "execute_result"
    }
   ],
   "source": [
    "x={\"ram\",\"sham\",\"geeta\",\"pooja\",\"om\"}\n",
    "y={\"c\",\"c++\",\"java\",\"python\",\"ram\",\"sham\"}\n",
    "\n",
    "x.update(y)\n",
    "\n",
    "x"
   ]
  },
  {
   "cell_type": "markdown",
   "id": "d0a99c12",
   "metadata": {},
   "source": [
    "# -------------------------------------Page End-------------------------------------\n",
    "Asterisc.in \n",
    "We will help you bring out the best in you...!! \n",
    "Industrial Training / Internship / College Projects\n",
    "Contact 7744822228 / 7743822228 \n",
    "Branches : Bhande Plot | Tiranga Chowk | Friends Colony"
   ]
  }
 ],
 "metadata": {
  "kernelspec": {
   "display_name": "Python 3 (ipykernel)",
   "language": "python",
   "name": "python3"
  },
  "language_info": {
   "codemirror_mode": {
    "name": "ipython",
    "version": 3
   },
   "file_extension": ".py",
   "mimetype": "text/x-python",
   "name": "python",
   "nbconvert_exporter": "python",
   "pygments_lexer": "ipython3",
   "version": "3.10.3"
  }
 },
 "nbformat": 4,
 "nbformat_minor": 5
}
