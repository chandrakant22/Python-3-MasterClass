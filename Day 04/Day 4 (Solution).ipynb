{
 "cells": [
  {
   "cell_type": "markdown",
   "id": "e624ed92",
   "metadata": {},
   "source": [
    "# Strings\n",
    "\n",
    "Strings in python are surrounded by either single quotation marks, or double quotation marks.\n",
    "'hello' is the same as \"hello\"\n"
   ]
  },
  {
   "cell_type": "code",
   "execution_count": 6,
   "id": "01a1b906",
   "metadata": {},
   "outputs": [],
   "source": [
    "a=\"hello\"\n",
    "b='world'\n",
    "c=\"215623562\"\n",
    "d=\"@$%&**\""
   ]
  },
  {
   "cell_type": "markdown",
   "id": "e0fe9a1f",
   "metadata": {},
   "source": [
    "# String Concatenation\n",
    "\n",
    "To concatenate, or combine, two strings you can use the + operator.\n"
   ]
  },
  {
   "cell_type": "code",
   "execution_count": 14,
   "id": "876f615f",
   "metadata": {},
   "outputs": [
    {
     "ename": "SyntaxError",
     "evalue": "unterminated string literal (detected at line 1) (2413644228.py, line 1)",
     "output_type": "error",
     "traceback": [
      "\u001b[1;36m  Input \u001b[1;32mIn [14]\u001b[1;36m\u001b[0m\n\u001b[1;33m    a=\"hello dear student your age is\u001b[0m\n\u001b[1;37m      ^\u001b[0m\n\u001b[1;31mSyntaxError\u001b[0m\u001b[1;31m:\u001b[0m unterminated string literal (detected at line 1)\n"
     ]
    }
   ],
   "source": [
    "a=\"hello dear student your age is \n",
    "dfhdjkfkj   \n",
    "sdfhjdikfjiklef\"\n",
    "\n",
    "print(a,age)"
   ]
  },
  {
   "cell_type": "markdown",
   "id": "dc4445f9",
   "metadata": {},
   "source": [
    "# Multiline Strings\n",
    "\n",
    "Three single quotes:\n"
   ]
  },
  {
   "cell_type": "code",
   "execution_count": 15,
   "id": "18dbea61",
   "metadata": {},
   "outputs": [
    {
     "name": "stdout",
     "output_type": "stream",
     "text": [
      "i am chandrakant \n",
      "i love to coding\n",
      "i am from nagpur sjkdjskf\n",
      "sdfshjf\n",
      "dsfnjkejfk\n",
      "dfdjkfh\n"
     ]
    }
   ],
   "source": [
    "x='''i am chandrakant \n",
    "i love to coding\n",
    "i am from nagpur sjkdjskf\n",
    "sdfshjf\n",
    "dsfnjkejfk\n",
    "dfdjkfh'''\n",
    "\n",
    "print(x)"
   ]
  },
  {
   "cell_type": "code",
   "execution_count": 20,
   "id": "6e104ceb",
   "metadata": {},
   "outputs": [
    {
     "name": "stdout",
     "output_type": "stream",
     "text": [
      "e\n"
     ]
    }
   ],
   "source": [
    "z=\"hello world fgdfgfd fghf\"\n",
    "print(z[1])"
   ]
  },
  {
   "cell_type": "markdown",
   "id": "116d8196",
   "metadata": {},
   "source": [
    "# String Length\n",
    "\n",
    "len()\n"
   ]
  },
  {
   "cell_type": "code",
   "execution_count": 21,
   "id": "b17271fc",
   "metadata": {},
   "outputs": [
    {
     "name": "stdout",
     "output_type": "stream",
     "text": [
      "24\n"
     ]
    }
   ],
   "source": [
    "print(len(z))"
   ]
  },
  {
   "cell_type": "markdown",
   "id": "62d58ea0",
   "metadata": {},
   "source": [
    "# Check String\n",
    "\n",
    "we can use the keyword -> in"
   ]
  },
  {
   "cell_type": "code",
   "execution_count": 23,
   "id": "986b0d23",
   "metadata": {},
   "outputs": [
    {
     "name": "stdout",
     "output_type": "stream",
     "text": [
      "False\n"
     ]
    }
   ],
   "source": [
    "x=\"i am chandrakant i love python\"\n",
    "\n",
    "print(\"java\" in x)"
   ]
  },
  {
   "cell_type": "markdown",
   "id": "1e7db2ab",
   "metadata": {},
   "source": [
    "# Slicing\n",
    "\n",
    "You can return a range of characters by using the slice syntax.\n",
    "\n",
    "[start index : end index]\n",
    "\n"
   ]
  },
  {
   "cell_type": "code",
   "execution_count": 26,
   "id": "0c8b710c",
   "metadata": {},
   "outputs": [
    {
     "name": "stdout",
     "output_type": "stream",
     "text": [
      "hello\n"
     ]
    }
   ],
   "source": [
    "x=\"hello world\"\n",
    "print(x[:5])"
   ]
  },
  {
   "cell_type": "markdown",
   "id": "ddc60d64",
   "metadata": {},
   "source": [
    "# Slice From the Start\n",
    "\n",
    "[ : end index]"
   ]
  },
  {
   "cell_type": "code",
   "execution_count": null,
   "id": "48b5fd0f",
   "metadata": {},
   "outputs": [],
   "source": []
  },
  {
   "cell_type": "markdown",
   "id": "0e74f64b",
   "metadata": {},
   "source": [
    "# Slice To the End\n",
    "\n",
    "[start index : ]"
   ]
  },
  {
   "cell_type": "code",
   "execution_count": null,
   "id": "ca130f1b",
   "metadata": {},
   "outputs": [],
   "source": []
  },
  {
   "cell_type": "markdown",
   "id": "6239d358",
   "metadata": {},
   "source": [
    "# Negative Indexing\n",
    "\n",
    "[ -start index : -end index]"
   ]
  },
  {
   "cell_type": "code",
   "execution_count": 29,
   "id": "a66c184e",
   "metadata": {},
   "outputs": [
    {
     "name": "stdout",
     "output_type": "stream",
     "text": [
      "worl\n",
      "\n",
      "worl\n"
     ]
    }
   ],
   "source": [
    "x=\"hello world\"\n",
    "\n",
    "print(x[-5:-1])\n",
    "\n",
    "print(x[-2:-4])\n",
    "\n",
    "print(x[-5:10])"
   ]
  },
  {
   "cell_type": "markdown",
   "id": "e9a3da10",
   "metadata": {},
   "source": [
    "# Modify Strings\n",
    "\n",
    "Python has a set of built-in methods that you can use on strings."
   ]
  },
  {
   "cell_type": "code",
   "execution_count": null,
   "id": "0d6bab05",
   "metadata": {},
   "outputs": [],
   "source": [
    "x=\"hello world\""
   ]
  },
  {
   "cell_type": "code",
   "execution_count": null,
   "id": "ba44ca1d",
   "metadata": {},
   "outputs": [],
   "source": [
    "upper() method"
   ]
  },
  {
   "cell_type": "code",
   "execution_count": 31,
   "id": "abd63d7d",
   "metadata": {},
   "outputs": [
    {
     "data": {
      "text/plain": [
       "'HELLO WORLD'"
      ]
     },
     "execution_count": 31,
     "metadata": {},
     "output_type": "execute_result"
    }
   ],
   "source": [
    "x.upper()"
   ]
  },
  {
   "cell_type": "code",
   "execution_count": null,
   "id": "23c58fd9",
   "metadata": {},
   "outputs": [],
   "source": [
    "lower() method"
   ]
  },
  {
   "cell_type": "code",
   "execution_count": 32,
   "id": "eb7fe687",
   "metadata": {},
   "outputs": [
    {
     "data": {
      "text/plain": [
       "'hello world'"
      ]
     },
     "execution_count": 32,
     "metadata": {},
     "output_type": "execute_result"
    }
   ],
   "source": [
    "x.lower()"
   ]
  },
  {
   "cell_type": "code",
   "execution_count": null,
   "id": "1180824f",
   "metadata": {},
   "outputs": [],
   "source": [
    "strip() method Remove Whitespace"
   ]
  },
  {
   "cell_type": "code",
   "execution_count": 35,
   "id": "e6fbb542",
   "metadata": {},
   "outputs": [
    {
     "name": "stdout",
     "output_type": "stream",
     "text": [
      "hello     world\n"
     ]
    }
   ],
   "source": [
    "x=\"  hello     world  \"\n",
    "print(x.strip())"
   ]
  },
  {
   "cell_type": "code",
   "execution_count": null,
   "id": "83ea649d",
   "metadata": {},
   "outputs": [],
   "source": [
    "replace() method"
   ]
  },
  {
   "cell_type": "code",
   "execution_count": 36,
   "id": "bf7acc67",
   "metadata": {},
   "outputs": [
    {
     "name": "stdout",
     "output_type": "stream",
     "text": [
      "i love java\n",
      "i love python\n"
     ]
    }
   ],
   "source": [
    "x=\"i love java\"\n",
    "print(x)\n",
    "print(x.replace(\"java\",\"python\"))"
   ]
  },
  {
   "cell_type": "code",
   "execution_count": null,
   "id": "c6933e3e",
   "metadata": {},
   "outputs": [],
   "source": [
    "split() method"
   ]
  },
  {
   "cell_type": "code",
   "execution_count": 39,
   "id": "31a7da83",
   "metadata": {},
   "outputs": [
    {
     "name": "stdout",
     "output_type": "stream",
     "text": [
      "['i', 'love', 'python']\n"
     ]
    }
   ],
   "source": [
    "x=\"i love python\"\n",
    "print(x.split(\" \"))"
   ]
  },
  {
   "cell_type": "markdown",
   "id": "45acecd7",
   "metadata": {},
   "source": [
    "# String Format\n",
    "\n",
    "format() method and placeholders {}"
   ]
  },
  {
   "cell_type": "code",
   "execution_count": 48,
   "id": "61ebde34",
   "metadata": {},
   "outputs": [
    {
     "name": "stdout",
     "output_type": "stream",
     "text": [
      "<class 'int'>\n",
      "hello dear ram your roll is 222 and age is 29 and from nagpur\n"
     ]
    }
   ],
   "source": [
    "a=\"hello dear {2} your roll is {0} and age is {3} and from {1}\"\n",
    "\n",
    "roll=222\n",
    "city=\"nagpur\"\n",
    "name=\"ram\"\n",
    "age=29\n",
    "\n",
    "print(type(age))\n",
    "print(a.format(roll,city,name,age))"
   ]
  },
  {
   "cell_type": "code",
   "execution_count": 50,
   "id": "8fa76f34",
   "metadata": {},
   "outputs": [
    {
     "name": "stdout",
     "output_type": "stream",
     "text": [
      "world\n"
     ]
    }
   ],
   "source": [
    "x=\"hello world\"\n",
    "print(x[1:5])"
   ]
  },
  {
   "cell_type": "code",
   "execution_count": null,
   "id": "cdd3e0c9",
   "metadata": {},
   "outputs": [],
   "source": []
  }
 ],
 "metadata": {
  "kernelspec": {
   "display_name": "Python 3 (ipykernel)",
   "language": "python",
   "name": "python3"
  },
  "language_info": {
   "codemirror_mode": {
    "name": "ipython",
    "version": 3
   },
   "file_extension": ".py",
   "mimetype": "text/x-python",
   "name": "python",
   "nbconvert_exporter": "python",
   "pygments_lexer": "ipython3",
   "version": "3.10.3"
  }
 },
 "nbformat": 4,
 "nbformat_minor": 5
}
