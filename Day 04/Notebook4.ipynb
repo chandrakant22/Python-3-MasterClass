{
 "cells": [
  {
   "cell_type": "markdown",
   "id": "e624ed92",
   "metadata": {},
   "source": [
    "# Strings\n",
    "\n",
    "Strings in python are surrounded by either single quotation marks, or double quotation marks.\n",
    "'hello' is the same as \"hello\"\n"
   ]
  },
  {
   "cell_type": "code",
   "execution_count": null,
   "id": "01a1b906",
   "metadata": {},
   "outputs": [],
   "source": []
  },
  {
   "cell_type": "markdown",
   "id": "e0fe9a1f",
   "metadata": {},
   "source": [
    "# String Concatenation\n",
    "\n",
    "To concatenate, or combine, two strings you can use the + operator.\n"
   ]
  },
  {
   "cell_type": "code",
   "execution_count": null,
   "id": "876f615f",
   "metadata": {},
   "outputs": [],
   "source": []
  },
  {
   "cell_type": "markdown",
   "id": "dc4445f9",
   "metadata": {},
   "source": [
    "# Multiline Strings\n",
    "\n",
    "Three single quotes:\n"
   ]
  },
  {
   "cell_type": "code",
   "execution_count": null,
   "id": "18dbea61",
   "metadata": {},
   "outputs": [],
   "source": []
  },
  {
   "cell_type": "markdown",
   "id": "116d8196",
   "metadata": {},
   "source": [
    "# String Length\n",
    "\n",
    "len()\n"
   ]
  },
  {
   "cell_type": "code",
   "execution_count": null,
   "id": "b17271fc",
   "metadata": {},
   "outputs": [],
   "source": []
  },
  {
   "cell_type": "markdown",
   "id": "62d58ea0",
   "metadata": {},
   "source": [
    "# Check String\n",
    "\n",
    "we can use the keyword -> in"
   ]
  },
  {
   "cell_type": "code",
   "execution_count": null,
   "id": "986b0d23",
   "metadata": {},
   "outputs": [],
   "source": []
  },
  {
   "cell_type": "markdown",
   "id": "1e7db2ab",
   "metadata": {},
   "source": [
    "# Slicing\n",
    "\n",
    "You can return a range of characters by using the slice syntax.\n",
    "\n",
    "[start index : end index]\n",
    "\n"
   ]
  },
  {
   "cell_type": "code",
   "execution_count": null,
   "id": "0c8b710c",
   "metadata": {},
   "outputs": [],
   "source": []
  },
  {
   "cell_type": "markdown",
   "id": "ddc60d64",
   "metadata": {},
   "source": [
    "# Slice From the Start\n",
    "\n",
    "[ : end index]"
   ]
  },
  {
   "cell_type": "code",
   "execution_count": null,
   "id": "48b5fd0f",
   "metadata": {},
   "outputs": [],
   "source": []
  },
  {
   "cell_type": "markdown",
   "id": "0e74f64b",
   "metadata": {},
   "source": [
    "# Slice To the End\n",
    "\n",
    "[start index : ]"
   ]
  },
  {
   "cell_type": "code",
   "execution_count": null,
   "id": "ca130f1b",
   "metadata": {},
   "outputs": [],
   "source": []
  },
  {
   "cell_type": "markdown",
   "id": "6239d358",
   "metadata": {},
   "source": [
    "# Negative Indexing\n",
    "\n",
    "[ -start index : -end index]"
   ]
  },
  {
   "cell_type": "code",
   "execution_count": null,
   "id": "a66c184e",
   "metadata": {},
   "outputs": [],
   "source": []
  },
  {
   "cell_type": "markdown",
   "id": "e9a3da10",
   "metadata": {},
   "source": [
    "# Modify Strings\n",
    "\n",
    "Python has a set of built-in methods that you can use on strings."
   ]
  },
  {
   "cell_type": "code",
   "execution_count": null,
   "id": "0d6bab05",
   "metadata": {},
   "outputs": [],
   "source": []
  },
  {
   "cell_type": "code",
   "execution_count": null,
   "id": "ba44ca1d",
   "metadata": {},
   "outputs": [],
   "source": [
    "upper() method"
   ]
  },
  {
   "cell_type": "code",
   "execution_count": null,
   "id": "abd63d7d",
   "metadata": {},
   "outputs": [],
   "source": []
  },
  {
   "cell_type": "code",
   "execution_count": null,
   "id": "23c58fd9",
   "metadata": {},
   "outputs": [],
   "source": [
    "lower() method"
   ]
  },
  {
   "cell_type": "code",
   "execution_count": null,
   "id": "eb7fe687",
   "metadata": {},
   "outputs": [],
   "source": []
  },
  {
   "cell_type": "code",
   "execution_count": null,
   "id": "1180824f",
   "metadata": {},
   "outputs": [],
   "source": [
    "strip() method Remove Whitespace"
   ]
  },
  {
   "cell_type": "code",
   "execution_count": null,
   "id": "e6fbb542",
   "metadata": {},
   "outputs": [],
   "source": []
  },
  {
   "cell_type": "code",
   "execution_count": null,
   "id": "83ea649d",
   "metadata": {},
   "outputs": [],
   "source": [
    "replace() method"
   ]
  },
  {
   "cell_type": "code",
   "execution_count": null,
   "id": "bf7acc67",
   "metadata": {},
   "outputs": [],
   "source": []
  },
  {
   "cell_type": "code",
   "execution_count": null,
   "id": "c6933e3e",
   "metadata": {},
   "outputs": [],
   "source": [
    "split() method"
   ]
  },
  {
   "cell_type": "code",
   "execution_count": null,
   "id": "31a7da83",
   "metadata": {},
   "outputs": [],
   "source": []
  },
  {
   "cell_type": "markdown",
   "id": "45acecd7",
   "metadata": {},
   "source": [
    "# String Format\n",
    "\n",
    "format() method and placeholders {}"
   ]
  },
  {
   "cell_type": "code",
   "execution_count": null,
   "id": "61ebde34",
   "metadata": {},
   "outputs": [],
   "source": []
  },
  {
   "cell_type": "code",
   "execution_count": null,
   "id": "8fa76f34",
   "metadata": {},
   "outputs": [],
   "source": []
  }
 ],
 "metadata": {
  "kernelspec": {
   "display_name": "Python 3 (ipykernel)",
   "language": "python",
   "name": "python3"
  },
  "language_info": {
   "codemirror_mode": {
    "name": "ipython",
    "version": 3
   },
   "file_extension": ".py",
   "mimetype": "text/x-python",
   "name": "python",
   "nbconvert_exporter": "python",
   "pygments_lexer": "ipython3",
   "version": "3.9.7"
  }
 },
 "nbformat": 4,
 "nbformat_minor": 5
}
