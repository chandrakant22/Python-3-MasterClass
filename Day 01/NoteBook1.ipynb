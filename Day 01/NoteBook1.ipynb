{
 "cells": [
  {
   "cell_type": "markdown",
   "id": "3c1c149f",
   "metadata": {},
   "source": [
    "# Python Variables\n",
    "\n",
    "Variables are containers for storing data values."
   ]
  },
  {
   "cell_type": "code",
   "execution_count": null,
   "id": "39c51e66",
   "metadata": {},
   "outputs": [],
   "source": [
    "#Creating Variables"
   ]
  },
  {
   "cell_type": "code",
   "execution_count": null,
   "id": "ae786109",
   "metadata": {},
   "outputs": [],
   "source": []
  },
  {
   "cell_type": "code",
   "execution_count": null,
   "id": "377e2225",
   "metadata": {},
   "outputs": [],
   "source": [
    "#Get the Type"
   ]
  },
  {
   "cell_type": "code",
   "execution_count": null,
   "id": "f6600f96",
   "metadata": {},
   "outputs": [],
   "source": []
  },
  {
   "cell_type": "code",
   "execution_count": null,
   "id": "da0e02a4",
   "metadata": {},
   "outputs": [],
   "source": [
    "#Casting"
   ]
  },
  {
   "cell_type": "code",
   "execution_count": null,
   "id": "92f83070",
   "metadata": {},
   "outputs": [],
   "source": []
  },
  {
   "cell_type": "code",
   "execution_count": null,
   "id": "85e28dc7",
   "metadata": {},
   "outputs": [],
   "source": [
    "#Single or Double Quotes? String"
   ]
  },
  {
   "cell_type": "code",
   "execution_count": null,
   "id": "132b1119",
   "metadata": {},
   "outputs": [],
   "source": []
  },
  {
   "cell_type": "code",
   "execution_count": null,
   "id": "256ff51c",
   "metadata": {},
   "outputs": [],
   "source": [
    "#Case-Sensitive"
   ]
  },
  {
   "cell_type": "code",
   "execution_count": null,
   "id": "cf03338e",
   "metadata": {},
   "outputs": [],
   "source": []
  },
  {
   "cell_type": "markdown",
   "id": "e3692ce1",
   "metadata": {},
   "source": [
    "# identifier (Variable Names)\n",
    "A variable can have a short name (like x and y) or\n",
    "a more descriptive name (age, carname, total_volume). \n",
    "\n",
    "Rules for Python variables:\n",
    "A variable name must start with a letter or the underscore character\n",
    "A variable name cannot start with a number\n",
    "A variable name can only contain alpha-numeric characters and underscores (A-z, 0-9, and _ )\n",
    "Variable names are case-sensitive (age, Age and AGE are three different variables)"
   ]
  },
  {
   "cell_type": "code",
   "execution_count": null,
   "id": "904b5dde",
   "metadata": {},
   "outputs": [],
   "source": []
  },
  {
   "cell_type": "code",
   "execution_count": null,
   "id": "b11052ba",
   "metadata": {},
   "outputs": [],
   "source": [
    "#Multi Words Variable Names"
   ]
  },
  {
   "cell_type": "code",
   "execution_count": null,
   "id": "8e35e45f",
   "metadata": {},
   "outputs": [],
   "source": []
  },
  {
   "cell_type": "code",
   "execution_count": null,
   "id": "51722400",
   "metadata": {},
   "outputs": [],
   "source": [
    "#Camel Case:- Each word, except the first, starts with a capital letter:"
   ]
  },
  {
   "cell_type": "code",
   "execution_count": null,
   "id": "c9f972be",
   "metadata": {},
   "outputs": [],
   "source": []
  },
  {
   "cell_type": "code",
   "execution_count": null,
   "id": "c0874cd4",
   "metadata": {},
   "outputs": [],
   "source": [
    "#Pascal Case:- Each word starts with a capital letter:"
   ]
  },
  {
   "cell_type": "code",
   "execution_count": null,
   "id": "a2701b83",
   "metadata": {},
   "outputs": [],
   "source": []
  },
  {
   "cell_type": "code",
   "execution_count": null,
   "id": "959b3293",
   "metadata": {},
   "outputs": [],
   "source": [
    "#Snake_Case:- Each word is separated by an underscore '_' character:"
   ]
  },
  {
   "cell_type": "code",
   "execution_count": null,
   "id": "f8ebf35e",
   "metadata": {},
   "outputs": [],
   "source": []
  },
  {
   "cell_type": "code",
   "execution_count": null,
   "id": "5796742b",
   "metadata": {},
   "outputs": [],
   "source": [
    "#Many Values to Multiple Variables"
   ]
  },
  {
   "cell_type": "code",
   "execution_count": null,
   "id": "e8a2ba10",
   "metadata": {},
   "outputs": [],
   "source": []
  },
  {
   "cell_type": "code",
   "execution_count": null,
   "id": "e01f5836",
   "metadata": {},
   "outputs": [],
   "source": [
    "#One Value to Multiple Variables"
   ]
  },
  {
   "cell_type": "code",
   "execution_count": null,
   "id": "fad21e38",
   "metadata": {},
   "outputs": [],
   "source": []
  },
  {
   "cell_type": "markdown",
   "id": "4edc4972",
   "metadata": {},
   "source": [
    "# OUTPUT Statment\n",
    "\n",
    "The Python print() function is often used to output variables."
   ]
  },
  {
   "cell_type": "code",
   "execution_count": null,
   "id": "3fb00f73",
   "metadata": {},
   "outputs": [],
   "source": []
  },
  {
   "cell_type": "code",
   "execution_count": null,
   "id": "042386e2",
   "metadata": {},
   "outputs": [],
   "source": [
    "#Output multiple variables, separated by a comma:"
   ]
  },
  {
   "cell_type": "code",
   "execution_count": null,
   "id": "45d225e1",
   "metadata": {},
   "outputs": [],
   "source": []
  },
  {
   "cell_type": "code",
   "execution_count": null,
   "id": "1ed5c9a9",
   "metadata": {},
   "outputs": [],
   "source": [
    "#use the + operator to output multiple variables:"
   ]
  },
  {
   "cell_type": "code",
   "execution_count": null,
   "id": "63c5ec6b",
   "metadata": {},
   "outputs": [],
   "source": []
  },
  {
   "cell_type": "markdown",
   "id": "9e7a1edc",
   "metadata": {},
   "source": [
    "# Input Statment\n",
    "\n",
    "The Python input(Message) function allows user input."
   ]
  },
  {
   "cell_type": "code",
   "execution_count": null,
   "id": "34a97764",
   "metadata": {},
   "outputs": [],
   "source": [
    "# String Input"
   ]
  },
  {
   "cell_type": "code",
   "execution_count": null,
   "id": "3472d463",
   "metadata": {},
   "outputs": [],
   "source": []
  },
  {
   "cell_type": "code",
   "execution_count": null,
   "id": "5771bc35",
   "metadata": {},
   "outputs": [],
   "source": [
    "# Integer Input  "
   ]
  },
  {
   "cell_type": "code",
   "execution_count": null,
   "id": "1164a5b1",
   "metadata": {},
   "outputs": [],
   "source": []
  },
  {
   "cell_type": "code",
   "execution_count": null,
   "id": "56e9de67",
   "metadata": {},
   "outputs": [],
   "source": [
    "# Float Input  "
   ]
  },
  {
   "cell_type": "code",
   "execution_count": null,
   "id": "882544a1",
   "metadata": {},
   "outputs": [],
   "source": []
  },
  {
   "cell_type": "markdown",
   "id": "e6a996e5",
   "metadata": {},
   "source": [
    "# Python Data Types\n",
    "\n",
    "Built-in Data Types\n",
    "In programming, data type is an important concept.\n",
    "\n",
    "Variables can store data of different types, and different types can do different things.\n",
    "\n",
    "Python has the following data types built-in by default, in these categories:\n",
    "\n",
    "Text Type:\tstr\n",
    "\n",
    "Numeric Types:\tint, float, complex\n",
    "\n",
    "Sequence Types:\tlist, tuple, range\n",
    "\n",
    "Mapping Type:\tdict\n",
    "\n",
    "Set Types:\tset\n",
    "\n",
    "Boolean Type:\tbool\n",
    "\n",
    "Binary Types:\tbytes"
   ]
  },
  {
   "cell_type": "code",
   "execution_count": null,
   "id": "69360723",
   "metadata": {},
   "outputs": [],
   "source": []
  },
  {
   "cell_type": "markdown",
   "id": "39a9d271",
   "metadata": {},
   "source": [
    "# Python Operators\n",
    "\n",
    "Operators are used to perform operations on variables and values."
   ]
  },
  {
   "cell_type": "code",
   "execution_count": null,
   "id": "06fe40c5",
   "metadata": {},
   "outputs": [],
   "source": [
    "#Python Arithmetic Operators\n",
    "\n",
    "Arithmetic operators are used with numeric values to perform common mathematical operations:\n",
    "    +     -    *     /    %     **    //"
   ]
  },
  {
   "cell_type": "code",
   "execution_count": null,
   "id": "9ee401c9",
   "metadata": {},
   "outputs": [],
   "source": []
  },
  {
   "cell_type": "markdown",
   "id": "9a9ad437",
   "metadata": {},
   "source": [
    "# -------------------------------------Page End-------------------------------------\n",
    "Asterisc.in \n",
    "We will help you bring out the best in you...!! \n",
    "Industrial Training / Internship / College Projects\n",
    "Contact 7744822228 / 7743822228 \n",
    "Branches : Bhande Plot | Tiranga Chowk | Friends Colony"
   ]
  }
 ],
 "metadata": {
  "kernelspec": {
   "display_name": "Python 3 (ipykernel)",
   "language": "python",
   "name": "python3"
  },
  "language_info": {
   "codemirror_mode": {
    "name": "ipython",
    "version": 3
   },
   "file_extension": ".py",
   "mimetype": "text/x-python",
   "name": "python",
   "nbconvert_exporter": "python",
   "pygments_lexer": "ipython3",
   "version": "3.9.7"
  }
 },
 "nbformat": 4,
 "nbformat_minor": 5
}
