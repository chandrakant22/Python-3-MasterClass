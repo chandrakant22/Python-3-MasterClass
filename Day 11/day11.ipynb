{
 "cells": [
  {
   "cell_type": "code",
   "execution_count": 1,
   "id": "7e784e54",
   "metadata": {},
   "outputs": [
    {
     "name": "stdout",
     "output_type": "stream",
     "text": [
      "ram\n",
      "sham\n",
      "geeta\n"
     ]
    }
   ],
   "source": [
    "a=[\"ram\",\"sham\",\"geeta\"]\n",
    "for i in a:\n",
    "    print(i)"
   ]
  },
  {
   "cell_type": "code",
   "execution_count": 2,
   "id": "5a7a9bda",
   "metadata": {},
   "outputs": [
    {
     "name": "stdout",
     "output_type": "stream",
     "text": [
      "hello  geeta\n"
     ]
    }
   ],
   "source": [
    "for i in a:\n",
    "    if \"geeta\"== i:\n",
    "        print(\"hello \",i)"
   ]
  },
  {
   "cell_type": "code",
   "execution_count": 3,
   "id": "8f54475f",
   "metadata": {},
   "outputs": [
    {
     "name": "stdout",
     "output_type": "stream",
     "text": [
      "hello  ram\n",
      "hello  sham\n",
      "hello  geeta\n",
      "hello  om\n"
     ]
    }
   ],
   "source": [
    "a=[\"ram\",\"sham\",\"geeta\",\"om\",\"pooja\",\"yash\"]\n",
    "\n",
    "for i in a:\n",
    "    print(\"hello \",i)\n",
    "    if \"om\"== i:\n",
    "        break;"
   ]
  },
  {
   "cell_type": "code",
   "execution_count": 5,
   "id": "148be6d4",
   "metadata": {},
   "outputs": [
    {
     "name": "stdout",
     "output_type": "stream",
     "text": [
      "hello  ram\n",
      "hello  sham\n",
      "hello  geeta\n",
      "hello  pooja\n",
      "hello  yash\n"
     ]
    }
   ],
   "source": [
    "a=[\"ram\",\"sham\",\"geeta\",\"om\",\"pooja\",\"yash\"]\n",
    "\n",
    "for i in a:\n",
    "    if \"om\"== i:\n",
    "        continue;\n",
    "        \n",
    "    print(\"hello \",i)\n",
    "        "
   ]
  },
  {
   "cell_type": "code",
   "execution_count": 6,
   "id": "3366b392",
   "metadata": {},
   "outputs": [
    {
     "name": "stdout",
     "output_type": "stream",
     "text": [
      "range(0, 7)\n"
     ]
    }
   ],
   "source": [
    "print(range(7))"
   ]
  },
  {
   "cell_type": "code",
   "execution_count": 12,
   "id": "be3a65dd",
   "metadata": {},
   "outputs": [
    {
     "name": "stdout",
     "output_type": "stream",
     "text": [
      "1\n",
      "4\n",
      "7\n",
      "10\n",
      "13\n",
      "16\n",
      "19\n",
      "22\n",
      "25\n",
      "28\n",
      "31\n",
      "34\n",
      "37\n",
      "40\n",
      "43\n",
      "46\n",
      "49\n",
      "loop end\n"
     ]
    }
   ],
   "source": [
    "for i in range(1,50,3):  \n",
    "    print(i)\n",
    "else:\n",
    "    print(\"loop end\")"
   ]
  },
  {
   "cell_type": "code",
   "execution_count": 13,
   "id": "7cfc21b6",
   "metadata": {},
   "outputs": [
    {
     "name": "stdout",
     "output_type": "stream",
     "text": [
      "0   0\n",
      "0   1\n",
      "0   2\n",
      "1   0\n",
      "1   1\n",
      "1   2\n",
      "2   0\n",
      "2   1\n",
      "2   2\n",
      "3   0\n",
      "3   1\n",
      "3   2\n",
      "4   0\n",
      "4   1\n",
      "4   2\n"
     ]
    }
   ],
   "source": [
    "for i in range(5):\n",
    "    for j in range(3):\n",
    "        print(i,\" \",j)\n",
    "    "
   ]
  },
  {
   "cell_type": "code",
   "execution_count": 24,
   "id": "854e7763",
   "metadata": {},
   "outputs": [
    {
     "name": "stdout",
     "output_type": "stream",
     "text": [
      "0  0\n",
      "0  1\n",
      "0  2\n",
      "1  0\n",
      "1  1\n",
      "1  2\n",
      "2  0\n",
      "2  1\n",
      "2  2\n",
      "4  0\n",
      "4  1\n",
      "4  2\n"
     ]
    }
   ],
   "source": [
    "for i in range(5):\n",
    "    if 3==i:\n",
    "        continue\n",
    "    for j in range(3):\n",
    "        print(i,\"\",j)"
   ]
  },
  {
   "cell_type": "code",
   "execution_count": null,
   "id": "6a6ecda8",
   "metadata": {},
   "outputs": [],
   "source": []
  },
  {
   "cell_type": "code",
   "execution_count": null,
   "id": "c67dd41e",
   "metadata": {},
   "outputs": [],
   "source": []
  },
  {
   "cell_type": "code",
   "execution_count": null,
   "id": "a20b2081",
   "metadata": {},
   "outputs": [],
   "source": []
  },
  {
   "cell_type": "code",
   "execution_count": null,
   "id": "78d2d5f6",
   "metadata": {},
   "outputs": [],
   "source": []
  }
 ],
 "metadata": {
  "kernelspec": {
   "display_name": "Python 3 (ipykernel)",
   "language": "python",
   "name": "python3"
  },
  "language_info": {
   "codemirror_mode": {
    "name": "ipython",
    "version": 3
   },
   "file_extension": ".py",
   "mimetype": "text/x-python",
   "name": "python",
   "nbconvert_exporter": "python",
   "pygments_lexer": "ipython3",
   "version": "3.10.3"
  }
 },
 "nbformat": 4,
 "nbformat_minor": 5
}
